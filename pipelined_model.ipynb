{
 "cells": [
  {
   "cell_type": "markdown",
   "id": "732c5d31",
   "metadata": {},
   "source": [
    "# Modules Imports"
   ]
  },
  {
   "cell_type": "code",
   "execution_count": 1,
   "id": "292bb332",
   "metadata": {},
   "outputs": [],
   "source": [
    "import os\n",
    "import time\n",
    "import pandas as pd\n",
    "import shap\n",
    "\n",
    "from pyspark.sql import SparkSession\n",
    "from pyspark.sql.functions import *\n",
    "from pyspark.sql.window import Window\n",
    "from pyspark.sql.types import FloatType, ArrayType\n",
    "\n",
    "from pyspark.ml.classification import GBTClassifier, RandomForestClassifier\n",
    "from pyspark.ml.evaluation import  BinaryClassificationEvaluator\n",
    "from pyspark.ml.feature import VectorAssembler, VectorIndexer, OneHotEncoder, StringIndexer, StandardScaler\n",
    "from pyspark.ml.tuning import ParamGridBuilder, CrossValidator\n",
    "from pyspark.ml import Pipeline\n",
    "from pyspark.mllib.evaluation import BinaryClassificationMetrics\n",
    "from pyspark.ml.functions import vector_to_array\n",
    "from pyspark.ml.pipeline import Transformer\n",
    "from pyspark import keyword_only\n",
    "from pyspark.ml import Transformer\n",
    "from pyspark.ml.param.shared import HasInputCol, HasOutputCol, Param, Params, TypeConverters\n",
    "from pyspark.ml.util import DefaultParamsReadable, DefaultParamsWritable\n",
    "\n",
    "import matplotlib.pyplot as plt\n",
    "import matplotlib.ticker as ticker\n",
    "import seaborn as sns\n",
    "\n",
    "# visualization customization\n",
    "%matplotlib inline\n",
    "plt.style.use('ggplot')\n",
    "plt.rcParams['figure.figsize'] = [20, 7]"
   ]
  },
  {
   "cell_type": "markdown",
   "id": "eacde458",
   "metadata": {},
   "source": [
    "---\n",
    "# Data Importation & Preprocessing"
   ]
  },
  {
   "cell_type": "code",
   "execution_count": 2,
   "id": "05c952bd",
   "metadata": {},
   "outputs": [
    {
     "name": "stderr",
     "output_type": "stream",
     "text": [
      "22/02/22 16:18:21 WARN Utils: Your hostname, Sams-MacBook-Pro.local resolves to a loopback address: 127.0.0.1; using 192.168.1.48 instead (on interface en0)\n",
      "22/02/22 16:18:21 WARN Utils: Set SPARK_LOCAL_IP if you need to bind to another address\n",
      "WARNING: An illegal reflective access operation has occurred\n",
      "WARNING: Illegal reflective access by org.apache.spark.unsafe.Platform (file:/usr/local/anaconda3/lib/python3.8/site-packages/pyspark/jars/spark-unsafe_2.12-3.1.1.jar) to constructor java.nio.DirectByteBuffer(long,int)\n",
      "WARNING: Please consider reporting this to the maintainers of org.apache.spark.unsafe.Platform\n",
      "WARNING: Use --illegal-access=warn to enable warnings of further illegal reflective access operations\n",
      "WARNING: All illegal access operations will be denied in a future release\n",
      "22/02/22 16:18:21 WARN NativeCodeLoader: Unable to load native-hadoop library for your platform... using builtin-java classes where applicable\n",
      "Using Spark's default log4j profile: org/apache/spark/log4j-defaults.properties\n",
      "Setting default log level to \"WARN\".\n",
      "To adjust logging level use sc.setLogLevel(newLevel). For SparkR, use setLogLevel(newLevel).\n",
      "22/02/22 16:18:23 WARN Utils: Service 'SparkUI' could not bind on port 4040. Attempting port 4041.\n",
      "22/02/22 16:18:23 WARN Utils: Service 'SparkUI' could not bind on port 4041. Attempting port 4042.\n",
      "22/02/22 16:18:23 WARN Utils: Service 'SparkUI' could not bind on port 4042. Attempting port 4043.\n"
     ]
    }
   ],
   "source": [
    "spark = SparkSession \\\n",
    "    .builder \\\n",
    "    .appName(\"Pipeline_model\") \\\n",
    "    .getOrCreate()\n",
    "\n",
    "spark.sparkContext.setLogLevel('OFF')"
   ]
  },
  {
   "cell_type": "code",
   "execution_count": 3,
   "id": "31f1f0e0",
   "metadata": {},
   "outputs": [
    {
     "name": "stderr",
     "output_type": "stream",
     "text": [
      "                                                                                \r"
     ]
    }
   ],
   "source": [
    "df = spark.sql(\"SELECT * FROM parquet.`data/complete_df.parquet`\")"
   ]
  },
  {
   "cell_type": "code",
   "execution_count": 4,
   "id": "b7df229f-b87a-4ae2-810f-e3e932b358f9",
   "metadata": {},
   "outputs": [
    {
     "name": "stdout",
     "output_type": "stream",
     "text": [
      "root\n",
      " |-- account_id: string (nullable = true)\n",
      " |-- date: string (nullable = true)\n",
      " |-- contract_start_date: string (nullable = true)\n",
      " |-- contract_end_date: string (nullable = true)\n",
      " |-- tenure: double (nullable = true)\n",
      " |-- account_type: string (nullable = true)\n",
      " |-- contract_type: string (nullable = true)\n",
      " |-- industry: string (nullable = true)\n",
      " |-- country: string (nullable = true)\n",
      " |-- recurrence: string (nullable = true)\n",
      " |-- opt_out: boolean (nullable = true)\n",
      " |-- opt_out_exercised: boolean (nullable = true)\n",
      " |-- company_type: string (nullable = true)\n",
      " |-- billing_bucket: double (nullable = true)\n",
      " |-- matches: integer (nullable = true)\n",
      " |-- infringements: integer (nullable = true)\n",
      " |-- takedowns: integer (nullable = true)\n",
      " |-- closed: integer (nullable = true)\n",
      " |-- isChurn: integer (nullable = true)\n",
      "\n"
     ]
    }
   ],
   "source": [
    "df.printSchema()"
   ]
  },
  {
   "cell_type": "code",
   "execution_count": 5,
   "id": "3f2dfc1d-4ed6-49a2-b2d1-1c3991102b8c",
   "metadata": {},
   "outputs": [],
   "source": [
    "class DropColumns(Transformer, HasInputCol, DefaultParamsReadable, DefaultParamsWritable):\n",
    "    input_cols = Param(Params._dummy(), 'input_cols', 'input column names', typeConverter=TypeConverters.toList)\n",
    "\n",
    "    @keyword_only\n",
    "    def __init__(self, input_cols: list = 'input'):\n",
    "        super(DropColumns, self).__init__()\n",
    "        self._setDefault(input_cols=None)\n",
    "        kwargs = self._input_kwargs\n",
    "        self.set_params(**kwargs)\n",
    "\n",
    "    @keyword_only\n",
    "    def set_params(self, input_cols: list = 'input'):\n",
    "        kwargs = self._input_kwargs\n",
    "        self._set(**kwargs)\n",
    "\n",
    "    def get_input_cols(self):\n",
    "        return self.getOrDefault(self.input_cols)\n",
    "\n",
    "    def _transform(self, df: DataFrame):\n",
    "        input_cols = self.get_input_cols()\n",
    "        return df.drop(*[column for column in input_cols])"
   ]
  },
  {
   "cell_type": "code",
   "execution_count": 6,
   "id": "f4361ebd-e10e-4d3c-93a9-499ac3c075d1",
   "metadata": {},
   "outputs": [],
   "source": [
    "class OptOutIndexer(Transformer, HasInputCol, HasOutputCol, DefaultParamsReadable, DefaultParamsWritable):\n",
    "    input_cols = Param(Params._dummy(), 'input_cols', 'input column names', typeConverter=TypeConverters.toList)\n",
    "    output_cols = Param(Params._dummy(), 'output_cols', 'output column names', typeConverter=TypeConverters.toList)\n",
    "\n",
    "    @keyword_only\n",
    "    def __init__(self, input_cols: list = 'input', output_cols: list = 'output'):\n",
    "        super(OptOutIndexer, self).__init__()\n",
    "        self._setDefault(input_cols=None, output_cols=None)\n",
    "        kwargs = self._input_kwargs\n",
    "        self.set_params(**kwargs)\n",
    "\n",
    "    @keyword_only\n",
    "    def set_params(self, input_cols: list = 'input', output_cols: list = 'output'):\n",
    "        kwargs = self._input_kwargs\n",
    "        self._set(**kwargs)\n",
    "\n",
    "    def get_input_cols(self):\n",
    "        return self.getOrDefault(self.input_cols)\n",
    "\n",
    "    def get_output_cols(self):\n",
    "        return self.getOrDefault(self.output_cols)\n",
    "\n",
    "    def _transform(self, df: DataFrame):\n",
    "        input_cols = self.get_input_cols()\n",
    "        output_cols = self.get_output_cols()\n",
    "        return df.withColumn(\n",
    "            output_cols[0],\n",
    "            when(\n",
    "                col(input_cols[0]) == 'true', 1\n",
    "            ).otherwise(0)\n",
    "        ).withColumn(\n",
    "            output_cols[1],\n",
    "            when(\n",
    "                col(input_cols[1]) == 'true', 1\n",
    "            ).otherwise(0)\n",
    "        )"
   ]
  },
  {
   "cell_type": "code",
   "execution_count": 7,
   "id": "d0b044b8-bda9-435b-83ec-4654f8192ef4",
   "metadata": {},
   "outputs": [],
   "source": [
    "df = df.withColumn('rank', percent_rank().over(Window.partitionBy().orderBy('date')))\n",
    "\n",
    "train = df.where('rank <= .8').drop('rank', 'date')\n",
    "test = df.where('rank > .8').drop('rank', 'date')"
   ]
  },
  {
   "cell_type": "code",
   "execution_count": 8,
   "id": "13d5e5a0",
   "metadata": {},
   "outputs": [
    {
     "name": "stderr",
     "output_type": "stream",
     "text": [
      "                                                                                \r"
     ]
    }
   ],
   "source": [
    "indexer = StringIndexer(\n",
    "    inputCols=['contract_type', 'industry', 'country', 'company_type',  'recurrence'],\n",
    "    outputCols=['contract_types', 'industries', 'countries', 'company_types',  'recurrences']\n",
    ")\n",
    "\n",
    "indexer = indexer.fit(train)\n",
    "\n",
    "opt_outs_transformer = OptOutIndexer(input_cols=['opt_out', 'opt_out_exercised'], output_cols=['opt_out_t', 'opt_out_exercised_t'])\n",
    "col_drop_transformer = DropColumns(input_cols=['contract_type', 'industry', 'country', 'company_type',  'recurrence'])\n",
    "\n",
    "columns = ['tenure', 'contract_types', 'industries', 'recurrences', 'opt_out', 'opt_out_exercised', 'company_types','matches', 'infringements', 'takedowns', 'closed', 'billing_bucket']  # 'country'\n",
    "\n",
    "assembler = VectorAssembler(inputCols=columns, outputCol='_features').setHandleInvalid('skip')\n",
    "scaler = StandardScaler(inputCol='_features' , outputCol='features')"
   ]
  },
  {
   "cell_type": "code",
   "execution_count": 9,
   "id": "ec6b21a5-184a-4223-b349-f24c3dfac5be",
   "metadata": {},
   "outputs": [],
   "source": [
    "rf_model = RandomForestClassifier(\n",
    "    maxDepth=5,\n",
    "    numTrees=5,\n",
    "    labelCol='isChurn'\n",
    ")"
   ]
  },
  {
   "cell_type": "code",
   "execution_count": 10,
   "id": "f6497486",
   "metadata": {},
   "outputs": [
    {
     "name": "stderr",
     "output_type": "stream",
     "text": [
      "                                                                                \r"
     ]
    }
   ],
   "source": [
    "stages = [opt_outs_transformer, indexer, col_drop_transformer, assembler, scaler, rf_model]\n",
    "\n",
    "pipe = Pipeline(stages=stages)\n",
    "\n",
    "model = pipe.fit(train)\n",
    "prediction = model.transform(test)\n",
    "# model_df = model_df.select('date', 'account_id', 'features', col('isChurn').alias('label'))"
   ]
  },
  {
   "cell_type": "code",
   "execution_count": 11,
   "id": "a0c8bd9a-3f80-4f7a-963b-e84037bd8c82",
   "metadata": {},
   "outputs": [
    {
     "name": "stdout",
     "output_type": "stream",
     "text": [
      "root\n",
      " |-- account_id: string (nullable = true)\n",
      " |-- contract_start_date: string (nullable = true)\n",
      " |-- contract_end_date: string (nullable = true)\n",
      " |-- tenure: double (nullable = true)\n",
      " |-- account_type: string (nullable = true)\n",
      " |-- opt_out: boolean (nullable = true)\n",
      " |-- opt_out_exercised: boolean (nullable = true)\n",
      " |-- billing_bucket: double (nullable = true)\n",
      " |-- matches: integer (nullable = true)\n",
      " |-- infringements: integer (nullable = true)\n",
      " |-- takedowns: integer (nullable = true)\n",
      " |-- closed: integer (nullable = true)\n",
      " |-- isChurn: integer (nullable = true)\n",
      " |-- opt_out_t: integer (nullable = false)\n",
      " |-- opt_out_exercised_t: integer (nullable = false)\n",
      " |-- recurrences: double (nullable = false)\n",
      " |-- industries: double (nullable = false)\n",
      " |-- contract_types: double (nullable = false)\n",
      " |-- countries: double (nullable = false)\n",
      " |-- company_types: double (nullable = false)\n",
      " |-- _features: vector (nullable = true)\n",
      " |-- features: vector (nullable = true)\n",
      " |-- rawPrediction: vector (nullable = true)\n",
      " |-- probability: vector (nullable = true)\n",
      " |-- prediction: double (nullable = false)\n",
      "\n"
     ]
    }
   ],
   "source": [
    "prediction.printSchema()"
   ]
  },
  {
   "cell_type": "code",
   "execution_count": 12,
   "id": "42a523f9-b65b-4b42-af00-5216e234fe23",
   "metadata": {},
   "outputs": [
    {
     "name": "stderr",
     "output_type": "stream",
     "text": [
      "[Stage 30:>                                                         (0 + 1) / 1]\r"
     ]
    },
    {
     "name": "stdout",
     "output_type": "stream",
     "text": [
      "+---------------+-----------+----------+-------+\n",
      "|account_id     |probability|prediction|isChurn|\n",
      "+---------------+-----------+----------+-------+\n",
      "|0011n00001vVDsy|0.93       |0.0       |0      |\n",
      "|0011n00001xVkPa|0.59       |0.0       |0      |\n",
      "|0011n00001xVkPa|0.59       |0.0       |0      |\n",
      "|0011n0000259Ozz|0.93       |0.0       |0      |\n",
      "|0011n0000259MXR|0.89       |0.0       |0      |\n",
      "|0010Y00001YPsZx|0.93       |0.0       |0      |\n",
      "|0011n000026QyzW|0.86       |0.0       |0      |\n",
      "|0011n00001iasIc|0.95       |1.0       |1      |\n",
      "|0011n00002ZugA7|1.0        |1.0       |1      |\n",
      "|0011n0000259LTH|0.74       |0.0       |1      |\n",
      "+---------------+-----------+----------+-------+\n",
      "only showing top 10 rows\n",
      "\n"
     ]
    },
    {
     "name": "stderr",
     "output_type": "stream",
     "text": [
      "                                                                                \r"
     ]
    }
   ],
   "source": [
    "prediction.select(\n",
    "    'account_id', 'probability', 'prediction', 'isChurn'\n",
    ").withColumn('probability', round(array_max(vector_to_array('probability')), 2)).show(10, False)"
   ]
  },
  {
   "cell_type": "code",
   "execution_count": 13,
   "id": "71fdf85f-b89e-4408-aa75-85029a46d24e",
   "metadata": {},
   "outputs": [
    {
     "data": {
      "text/plain": [
       "(array([ 0,  1,  2,  3,  4,  5,  6,  7,  8,  9, 10, 11]),\n",
       " [Text(0, 0, 'recurrences'),\n",
       "  Text(1, 0, 'tenure'),\n",
       "  Text(2, 0, 'billing_bucket'),\n",
       "  Text(3, 0, 'opt_out_exercised'),\n",
       "  Text(4, 0, 'contract_types'),\n",
       "  Text(5, 0, 'opt_out'),\n",
       "  Text(6, 0, 'industries'),\n",
       "  Text(7, 0, 'company_types'),\n",
       "  Text(8, 0, 'closed'),\n",
       "  Text(9, 0, 'matches'),\n",
       "  Text(10, 0, 'takedowns'),\n",
       "  Text(11, 0, 'infringements')])"
      ]
     },
     "execution_count": 13,
     "metadata": {},
     "output_type": "execute_result"
    },
    {
     "data": {
      "image/png": "[encoded data removed]",
      "text/plain": [
       "<Figure size 1440x504 with 1 Axes>"
      ]
     },
     "metadata": {},
     "output_type": "display_data"
    }
   ],
   "source": [
    "feat_importance = pd.DataFrame(\n",
    "    list(\n",
    "        zip(columns, model.stages[-1].featureImportances)\n",
    "    ),\n",
    "    columns= ['Feature', 'Importance']\n",
    ")\n",
    "\n",
    "plt.title('Feature Importances of RandomForest')\n",
    "sns.barplot(\n",
    "    x='Feature',\n",
    "    y='Importance',\n",
    "    data=feat_importance.sort_values(by='Importance', ascending=False).iloc[:16])\n",
    "plt.xticks(rotation=45)"
   ]
  },
  {
   "cell_type": "markdown",
   "id": "c8b8ba03-6817-416d-8e18-ccec94d93463",
   "metadata": {
    "tags": []
   },
   "source": [
    "#Model Evaluation\n",
    "evaluator= BinaryClassificationEvaluator(labelCol='isChurn')\n",
    "\n",
    "areaUnderROC = evaluator.evaluate(prediction.select('account_id', 'rawPrediction', 'probability', 'prediction', 'isChurn').drop_duplicates(['account_id']), {evaluator.metricName: 'areaUnderROC'})\n",
    "areaUnderROC = evaluator.evaluate(prediction.select('account_id', 'rawPrediction', 'probability', 'prediction', 'isChurn').drop_duplicates(['account_id']), {evaluator.metricName: 'areaUnderROC'})"
   ]
  },
  {
   "cell_type": "code",
   "execution_count": 14,
   "id": "e9be78f6-a4aa-49c6-8534-67c384817be9",
   "metadata": {},
   "outputs": [
    {
     "name": "stderr",
     "output_type": "stream",
     "text": [
      "                                                                                \r"
     ]
    }
   ],
   "source": [
    "model.write().overwrite().save('./model_export')"
   ]
  }
 ],
 "metadata": {
  "kernelspec": {
   "display_name": "Python 3 (ipykernel)",
   "language": "python",
   "name": "python3"
  },
  "language_info": {
   "codemirror_mode": {
    "name": "ipython",
    "version": 3
   },
   "file_extension": ".py",
   "mimetype": "text/x-python",
   "name": "python",
   "nbconvert_exporter": "python",
   "pygments_lexer": "ipython3",
   "version": "3.8.5"
  }
 },
 "nbformat": 4,
 "nbformat_minor": 5
}
