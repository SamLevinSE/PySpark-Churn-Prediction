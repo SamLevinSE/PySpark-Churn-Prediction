{
 "cells": [
  {
   "cell_type": "markdown",
   "id": "7b636e4d",
   "metadata": {},
   "source": [
    "### Modules Imports"
   ]
  },
  {
   "cell_type": "code",
   "execution_count": 1,
   "id": "a2bb3fbc",
   "metadata": {},
   "outputs": [],
   "source": [
    "import os\n",
    "import time\n",
    "import numpy as np\n",
    "import pandas as pd\n",
    "\n",
    "from pyspark.sql import SparkSession\n",
    "from pyspark.sql.functions import *\n",
    "from pyspark.sql.types import *\n",
    "from pyspark.sql.window import Window\n",
    "from pyspark.ml.feature import QuantileDiscretizer\n",
    "\n",
    "import matplotlib.pyplot as plt\n",
    "import matplotlib.ticker as ticker\n",
    "import seaborn as sns\n",
    "\n",
    "# visualization customization\n",
    "%matplotlib inline\n",
    "plt.style.use('ggplot')\n",
    "plt.rcParams['figure.figsize'] = [20, 7]"
   ]
  },
  {
   "cell_type": "markdown",
   "id": "9cc8c8ac",
   "metadata": {},
   "source": [
    "---\n",
    "# Data Importation"
   ]
  },
  {
   "cell_type": "code",
   "execution_count": 2,
   "id": "8b99d0c2",
   "metadata": {},
   "outputs": [],
   "source": [
    "PRO_DIR = os.path.abspath('')\n",
    "DATA_DIR = os.path.join(PRO_DIR, 'data/')"
   ]
  },
  {
   "cell_type": "code",
   "execution_count": 3,
   "id": "05623cea",
   "metadata": {},
   "outputs": [
    {
     "name": "stdout",
     "output_type": "stream",
     "text": [
      "/Users/sam/Documents/RedPoint/data/\n"
     ]
    }
   ],
   "source": [
    "print(DATA_DIR)\n",
    "accounts_PATH = f'{DATA_DIR}accounts.csv'\n",
    "contracts_PATH = f'{DATA_DIR}contracts.csv'\n",
    "metrics_PATH = f'{DATA_DIR}metrics.csv'"
   ]
  },
  {
   "cell_type": "code",
   "execution_count": 4,
   "id": "8c8c6a74",
   "metadata": {},
   "outputs": [
    {
     "name": "stderr",
     "output_type": "stream",
     "text": [
      "22/02/22 16:15:24 WARN Utils: Your hostname, Sams-MacBook-Pro.local resolves to a loopback address: 127.0.0.1; using 192.168.1.48 instead (on interface en0)\n",
      "22/02/22 16:15:24 WARN Utils: Set SPARK_LOCAL_IP if you need to bind to another address\n",
      "WARNING: An illegal reflective access operation has occurred\n",
      "WARNING: Illegal reflective access by org.apache.spark.unsafe.Platform (file:/usr/local/anaconda3/lib/python3.8/site-packages/pyspark/jars/spark-unsafe_2.12-3.1.1.jar) to constructor java.nio.DirectByteBuffer(long,int)\n",
      "WARNING: Please consider reporting this to the maintainers of org.apache.spark.unsafe.Platform\n",
      "WARNING: Use --illegal-access=warn to enable warnings of further illegal reflective access operations\n",
      "WARNING: All illegal access operations will be denied in a future release\n",
      "22/02/22 16:15:25 WARN NativeCodeLoader: Unable to load native-hadoop library for your platform... using builtin-java classes where applicable\n",
      "Using Spark's default log4j profile: org/apache/spark/log4j-defaults.properties\n",
      "Setting default log level to \"WARN\".\n",
      "To adjust logging level use sc.setLogLevel(newLevel). For SparkR, use setLogLevel(newLevel).\n",
      "22/02/22 16:15:26 WARN Utils: Service 'SparkUI' could not bind on port 4040. Attempting port 4041.\n"
     ]
    }
   ],
   "source": [
    "spark = SparkSession \\\n",
    "    .builder \\\n",
    "    .appName(\"Clean_data\") \\\n",
    "    .getOrCreate()"
   ]
  },
  {
   "cell_type": "code",
   "execution_count": 5,
   "id": "d3707b78",
   "metadata": {},
   "outputs": [],
   "source": [
    "accounts_df = spark.read.csv(\n",
    "    accounts_PATH,\n",
    "    inferSchema=True,\n",
    "    header=True\n",
    ")"
   ]
  },
  {
   "cell_type": "code",
   "execution_count": 6,
   "id": "4390ad42",
   "metadata": {},
   "outputs": [],
   "source": [
    "contracts_df = spark.read.csv(\n",
    "    contracts_PATH,\n",
    "    inferSchema=True,\n",
    "    header=True\n",
    ")"
   ]
  },
  {
   "cell_type": "code",
   "execution_count": 7,
   "id": "e8870be1",
   "metadata": {},
   "outputs": [
    {
     "name": "stderr",
     "output_type": "stream",
     "text": [
      "                                                                                \r"
     ]
    }
   ],
   "source": [
    "metrics_df = spark.read.csv(\n",
    "    metrics_PATH,\n",
    "    inferSchema=True,\n",
    "    header=True\n",
    ")"
   ]
  },
  {
   "cell_type": "markdown",
   "id": "f44edc1a",
   "metadata": {},
   "source": [
    "---\n",
    "# Preprocessing & Exploratory Data Analysis"
   ]
  },
  {
   "cell_type": "code",
   "execution_count": 8,
   "id": "1078d117",
   "metadata": {},
   "outputs": [
    {
     "name": "stdout",
     "output_type": "stream",
     "text": [
      "+---------------+--------------+-------------+-----------------+--------------------+--------------+------------+--------------------------+--------------+-----------------------+\n",
      "|     Account ID|Account Status| Account Type|Expected end date|           Industry.|      Vertical|Company Type|Annual Revenue (converted)|       Country|Pending Invoices Amount|\n",
      "+---------------+--------------+-------------+-----------------+--------------------+--------------+------------+--------------------------+--------------+-----------------------+\n",
      "|0011n00002Su4vi|        Active|     Customer|       2022-02-19|            Homeware|         Decor|         SME|                 6533000.0| UNITED STATES|                 1600.0|\n",
      "|0010Y000005DSng|     Cancelled|Former Client|       2019-05-31|             Fashion|      Clothing|  Mid-Market|                     1.7E8| UNITED STATES|                   null|\n",
      "|0011n00001pYB8m|     Cancelled|Former Client|       2019-06-01|   Toys, Kids & baby|    Baby items|         SME|                 2000000.0| UNITED STATES|                   null|\n",
      "|0011n000026QmWo|     Cancelled|Former Client|       2020-01-01|              Sports|Sporting goods|         SME|                      null|        SWEDEN|                   null|\n",
      "|0010Y000002s839|     Cancelled|Former Client|       2021-02-20|Beauty & Personal...|     Hair Care|         SME|                     1.0E7|UNITED KINGDOM|                   null|\n",
      "+---------------+--------------+-------------+-----------------+--------------------+--------------+------------+--------------------------+--------------+-----------------------+\n",
      "only showing top 5 rows\n",
      "\n"
     ]
    }
   ],
   "source": [
    "accounts_df.show(5)"
   ]
  },
  {
   "cell_type": "code",
   "execution_count": 9,
   "id": "2dec7cdb",
   "metadata": {},
   "outputs": [
    {
     "name": "stdout",
     "output_type": "stream",
     "text": [
      "+---------------+------------------+-------------------+-----------------+------+-------------+-------------+--------------------------+----------------+-----------------+\n",
      "|     Account ID|       Contract ID|Contract Start Date|Contract End Date|Status|Contract Type|   Recurrence|Billing Amount (converted)|6 months Opt Out|Opt Out Exercised|\n",
      "+---------------+------------------+-------------------+-----------------+------+-------------+-------------+--------------------------+----------------+-----------------+\n",
      "|0011n00002Su4vi|8001n000008mKgAAAU|         2021-02-19|       2022-02-19|Signed| New Business|    Recurrent|                    1600.0|            true|            false|\n",
      "|0010Y000005DSng|8000Y000000jhXKQAY|         2018-06-01|       2019-05-31|Signed|       Upsell|      Monthly|                    1500.0|           false|            false|\n",
      "|0010Y000005DSng|8000Y000002fQeLQAU|         2018-03-01|       2018-05-31|Signed|        Trial|Non-Recurrent|                    833.33|           false|            false|\n",
      "|0011n00001pYB8m|8001n000003hqyuAAA|         2018-11-21|       2019-06-01|Signed| New Business|      Monthly|                    1500.0|           false|            false|\n",
      "|0011n000026QmWo|8001n000004yrSjAAI|         2019-07-03|       2020-01-01|Signed| New Business|      Monthly|                    1150.0|           false|            false|\n",
      "+---------------+------------------+-------------------+-----------------+------+-------------+-------------+--------------------------+----------------+-----------------+\n",
      "only showing top 5 rows\n",
      "\n"
     ]
    }
   ],
   "source": [
    "contracts_df.show(5)"
   ]
  },
  {
   "cell_type": "code",
   "execution_count": 10,
   "id": "27a5b9c0",
   "metadata": {},
   "outputs": [
    {
     "name": "stdout",
     "output_type": "stream",
     "text": [
      "+---------------+----------+----------+-------+------+-------------+-------------+--------------+---------+------+---------------+\n",
      "|      accountid|      date|detections|matches|alerts|infringements|inf_confirmed|on_enforcement|takedowns|closed|non_enforceable|\n",
      "+---------------+----------+----------+-------+------+-------------+-------------+--------------+---------+------+---------------+\n",
      "|0010Y00000HCjFA|2021-10-02|       317|    126|   126|            0|            0|             0|        0|     0|              0|\n",
      "|0010Y00000IJyb9|2021-10-02|        78|     76|    76|            0|            0|             0|        0|     0|              0|\n",
      "|0010Y00000JROot|2021-10-02|       122|     34|    23|            0|            0|             0|        0|     0|              0|\n",
      "|0010Y00000ILXuz|2021-10-02|       121|      0|     0|            0|            0|             0|        5|     3|              0|\n",
      "|0010Y00000JROoy|2021-10-02|       116|    105|   103|            0|            0|             0|        0|     0|              0|\n",
      "+---------------+----------+----------+-------+------+-------------+-------------+--------------+---------+------+---------------+\n",
      "only showing top 5 rows\n",
      "\n"
     ]
    }
   ],
   "source": [
    "metrics_df.show(5)"
   ]
  },
  {
   "cell_type": "code",
   "execution_count": 11,
   "id": "1768c915",
   "metadata": {},
   "outputs": [
    {
     "name": "stdout",
     "output_type": "stream",
     "text": [
      "Count records [original]: 920\n"
     ]
    },
    {
     "name": "stderr",
     "output_type": "stream",
     "text": [
      "[Stage 12:=======================================>              (148 + 8) / 200]\r"
     ]
    },
    {
     "name": "stdout",
     "output_type": "stream",
     "text": [
      "Count records [after dropping dupplicates]: 920\n"
     ]
    },
    {
     "name": "stderr",
     "output_type": "stream",
     "text": [
      "                                                                                \r"
     ]
    }
   ],
   "source": [
    "print(f'Count records [original]: {accounts_df.count()}')\n",
    "print(f'Count records [after dropping dupplicates]: {accounts_df.drop_duplicates().count()}')"
   ]
  },
  {
   "cell_type": "code",
   "execution_count": 12,
   "id": "98a40ab2",
   "metadata": {},
   "outputs": [
    {
     "name": "stdout",
     "output_type": "stream",
     "text": [
      "+----------+--------------+------------+-----------------+--------+--------+------------+--------------------------+-------+-----------------------+\n",
      "|Account ID|Account Status|Account Type|Expected end date|Industry|Vertical|Company Type|Annual Revenue (converted)|Country|Pending Invoices Amount|\n",
      "+----------+--------------+------------+-----------------+--------+--------+------------+--------------------------+-------+-----------------------+\n",
      "|         0|             0|           0|               44|       0|       4|           0|                       147|      0|                    332|\n",
      "+----------+--------------+------------+-----------------+--------+--------+------------+--------------------------+-------+-----------------------+\n",
      "\n"
     ]
    }
   ],
   "source": [
    "accounts_df = accounts_df.withColumnRenamed('Industry.', 'Industry')\n",
    "accounts_df.select([count(when(col(column).isNull(), column)).alias(column) for column in accounts_df.columns]).show()"
   ]
  },
  {
   "cell_type": "code",
   "execution_count": 13,
   "id": "aff63390",
   "metadata": {},
   "outputs": [
    {
     "name": "stdout",
     "output_type": "stream",
     "text": [
      "Count records [original]: 1834\n",
      "Count records [after dropping dupplicates]: 1834\n"
     ]
    }
   ],
   "source": [
    "print(f'Count records [original]: {contracts_df.count()}')\n",
    "print(f'Count records [after dropping dupplicates]: {contracts_df.drop_duplicates().count()}')"
   ]
  },
  {
   "cell_type": "code",
   "execution_count": 14,
   "id": "885ff409",
   "metadata": {},
   "outputs": [
    {
     "name": "stdout",
     "output_type": "stream",
     "text": [
      "+----------+-----------+-------------------+-----------------+------+-------------+----------+--------------------------+----------------+-----------------+\n",
      "|Account ID|Contract ID|Contract Start Date|Contract End Date|Status|Contract Type|Recurrence|Billing Amount (converted)|6 months Opt Out|Opt Out Exercised|\n",
      "+----------+-----------+-------------------+-----------------+------+-------------+----------+--------------------------+----------------+-----------------+\n",
      "|         0|          0|                  0|               29|     0|            0|         0|                         3|               0|                0|\n",
      "+----------+-----------+-------------------+-----------------+------+-------------+----------+--------------------------+----------------+-----------------+\n",
      "\n"
     ]
    }
   ],
   "source": [
    "contracts_df.select([count(when(col(column).isNull(), column)).alias(column) for column in contracts_df.columns]).show()"
   ]
  },
  {
   "cell_type": "code",
   "execution_count": 15,
   "id": "d5549b09",
   "metadata": {},
   "outputs": [
    {
     "name": "stdout",
     "output_type": "stream",
     "text": [
      "Count records [original]: 683960\n"
     ]
    },
    {
     "name": "stderr",
     "output_type": "stream",
     "text": [
      "[Stage 26:======================================>               (143 + 8) / 200]\r"
     ]
    },
    {
     "name": "stdout",
     "output_type": "stream",
     "text": [
      "Count records [after dropping dupplicates]: 681624\n"
     ]
    },
    {
     "name": "stderr",
     "output_type": "stream",
     "text": [
      "                                                                                \r"
     ]
    }
   ],
   "source": [
    "print(f'Count records [original]: {metrics_df.count()}')\n",
    "print(f'Count records [after dropping dupplicates]: {metrics_df.drop_duplicates().count()}')"
   ]
  },
  {
   "cell_type": "markdown",
   "id": "cbec3ffa",
   "metadata": {},
   "source": [
    "There seems to be some dupplicates here [2336 dupplicates], I drop those columns."
   ]
  },
  {
   "cell_type": "code",
   "execution_count": 16,
   "id": "bc43ff8a",
   "metadata": {},
   "outputs": [],
   "source": [
    "metrics_df = metrics_df.drop_duplicates()"
   ]
  },
  {
   "cell_type": "code",
   "execution_count": 17,
   "id": "830a048d",
   "metadata": {},
   "outputs": [
    {
     "name": "stderr",
     "output_type": "stream",
     "text": [
      "[Stage 29:=============================================>        (168 + 8) / 200]\r"
     ]
    },
    {
     "name": "stdout",
     "output_type": "stream",
     "text": [
      "+---------+----+----------+-------+------+-------------+-------------+--------------+---------+------+---------------+\n",
      "|accountid|date|detections|matches|alerts|infringements|inf_confirmed|on_enforcement|takedowns|closed|non_enforceable|\n",
      "+---------+----+----------+-------+------+-------------+-------------+--------------+---------+------+---------------+\n",
      "|        0|   0|         0|      0|     0|            0|            0|             0|        0|     0|              0|\n",
      "+---------+----+----------+-------+------+-------------+-------------+--------------+---------+------+---------------+\n",
      "\n"
     ]
    },
    {
     "name": "stderr",
     "output_type": "stream",
     "text": [
      "                                                                                \r"
     ]
    }
   ],
   "source": [
    "metrics_df.cache()\n",
    "metrics_df.select([count(when(col(column).isNull(), column)).alias(column) for column in metrics_df.columns]).show()"
   ]
  },
  {
   "cell_type": "code",
   "execution_count": 18,
   "id": "3419fa91",
   "metadata": {},
   "outputs": [
    {
     "name": "stdout",
     "output_type": "stream",
     "text": [
      "+--------------+\n",
      "|Account Status|\n",
      "+--------------+\n",
      "|        Paused|\n",
      "|     Cancelled|\n",
      "|        Active|\n",
      "+--------------+\n",
      "\n",
      "+-------------+\n",
      "| Account Type|\n",
      "+-------------+\n",
      "|Former Client|\n",
      "|     Customer|\n",
      "+-------------+\n",
      "\n",
      "+--------------------+\n",
      "|            Industry|\n",
      "+--------------------+\n",
      "|Beauty & Personal...|\n",
      "|       Entertainment|\n",
      "|     Food & Beverage|\n",
      "|    Law Firm/Partner|\n",
      "|             Fashion|\n",
      "|      Consumer Goods|\n",
      "|              Sports|\n",
      "|              Health|\n",
      "|         Electronics|\n",
      "|                Auto|\n",
      "|        Construction|\n",
      "|   Toys, Kids & baby|\n",
      "|              Others|\n",
      "|            Software|\n",
      "|          Publishers|\n",
      "|Test Purchase/Inv...|\n",
      "|            Homeware|\n",
      "+--------------------+\n",
      "\n",
      "+--------------------+\n",
      "|            Vertical|\n",
      "+--------------------+\n",
      "|          Videogames|\n",
      "|        Car Lighting|\n",
      "|             Eyewear|\n",
      "|        Sports Clubs|\n",
      "|             Hunting|\n",
      "|          Stationery|\n",
      "|Household appliances|\n",
      "|Sports Rights Hol...|\n",
      "|      Pharmaceutical|\n",
      "|                  TV|\n",
      "|Sports merchandising|\n",
      "| Parts and Materials|\n",
      "|   Movies, Music, TV|\n",
      "|    Law Firm/Partner|\n",
      "|                null|\n",
      "|          Baby items|\n",
      "|               Decor|\n",
      "|Cell phone & lapt...|\n",
      "|       Medical Goods|\n",
      "|            Firearms|\n",
      "+--------------------+\n",
      "only showing top 20 rows\n",
      "\n",
      "+----------------+\n",
      "|    Company Type|\n",
      "+----------------+\n",
      "|         Partner|\n",
      "|             SME|\n",
      "|      Mid-Market|\n",
      "|Large Enterprise|\n",
      "|      Enterprise|\n",
      "+----------------+\n",
      "\n",
      "+--------------------+\n",
      "|             Country|\n",
      "+--------------------+\n",
      "|        SOUTH AFRICA|\n",
      "|               JAPAN|\n",
      "|  RUSSIAN FEDERATION|\n",
      "|           LITHUANIA|\n",
      "|      UNITED KINGDOM|\n",
      "|         PHILIPPINES|\n",
      "|      CZECH REPUBLIC|\n",
      "|             ESTONIA|\n",
      "|         SOUTH KOREA|\n",
      "|              CANADA|\n",
      "|              POLAND|\n",
      "|            COLOMBIA|\n",
      "|UNITED ARAB EMIRATES|\n",
      "|              MEXICO|\n",
      "|              FRANCE|\n",
      "|           SINGAPORE|\n",
      "|               CHINA|\n",
      "|             AUSTRIA|\n",
      "|              LATVIA|\n",
      "|         SWITZERLAND|\n",
      "+--------------------+\n",
      "only showing top 20 rows\n",
      "\n"
     ]
    }
   ],
   "source": [
    "col_name = ['Account Status', 'Account Type', 'Industry', 'Vertical', 'Company Type', 'Country']\n",
    "\n",
    "for column in col_name:\n",
    "    accounts_df.select(column).distinct().show()"
   ]
  },
  {
   "cell_type": "code",
   "execution_count": 19,
   "id": "ae6c52f0",
   "metadata": {},
   "outputs": [
    {
     "name": "stdout",
     "output_type": "stream",
     "text": [
      "+------+\n",
      "|Status|\n",
      "+------+\n",
      "|Signed|\n",
      "+------+\n",
      "\n",
      "+-------------+\n",
      "|Contract Type|\n",
      "+-------------+\n",
      "|      Renewal|\n",
      "|    Extension|\n",
      "|       Upsell|\n",
      "|     Downsell|\n",
      "|   Cross-sell|\n",
      "| New Business|\n",
      "|        Trial|\n",
      "+-------------+\n",
      "\n",
      "+-------------+\n",
      "|   Recurrence|\n",
      "+-------------+\n",
      "|    Recurrent|\n",
      "|      Monthly|\n",
      "|Non-Recurrent|\n",
      "+-------------+\n",
      "\n",
      "+----------------+\n",
      "|6 months Opt Out|\n",
      "+----------------+\n",
      "|            true|\n",
      "|           false|\n",
      "+----------------+\n",
      "\n",
      "+-----------------+\n",
      "|Opt Out Exercised|\n",
      "+-----------------+\n",
      "|             true|\n",
      "|            false|\n",
      "+-----------------+\n",
      "\n"
     ]
    }
   ],
   "source": [
    "col_name = ['Status', 'Contract Type', 'Recurrence', '6 months Opt Out', 'Opt Out Exercised']\n",
    "\n",
    "for column in col_name:\n",
    "    contracts_df.select(column).distinct().show()"
   ]
  },
  {
   "cell_type": "code",
   "execution_count": 20,
   "id": "b2c7b290",
   "metadata": {},
   "outputs": [
    {
     "name": "stdout",
     "output_type": "stream",
     "text": [
      "+----------+----------+\n",
      "| min(Date)| max(Date)|\n",
      "+----------+----------+\n",
      "|2018-01-01|2021-10-02|\n",
      "+----------+----------+\n",
      "\n"
     ]
    },
    {
     "name": "stderr",
     "output_type": "stream",
     "text": [
      "                                                                                \r"
     ]
    }
   ],
   "source": [
    "metrics_df.groupby().agg(\n",
    "    min('Date'),\n",
    "    max('Date')\n",
    ").show()"
   ]
  },
  {
   "cell_type": "code",
   "execution_count": 21,
   "id": "19df4e2b",
   "metadata": {},
   "outputs": [
    {
     "name": "stdout",
     "output_type": "stream",
     "text": [
      "+------------------------+------------------------+\n",
      "|min(Contract Start Date)|max(Contract Start Date)|\n",
      "+------------------------+------------------------+\n",
      "|              2018-01-01|              2022-01-04|\n",
      "+------------------------+------------------------+\n",
      "\n"
     ]
    }
   ],
   "source": [
    "contracts_df.groupby().agg(\n",
    "    min('Contract Start Date'),\n",
    "    max('Contract Start Date')\n",
    ").show()"
   ]
  },
  {
   "cell_type": "code",
   "execution_count": 22,
   "id": "217c3ee8",
   "metadata": {},
   "outputs": [
    {
     "data": {
      "text/plain": [
       "134"
      ]
     },
     "execution_count": 22,
     "metadata": {},
     "output_type": "execute_result"
    }
   ],
   "source": [
    "contracts_df.filter(\n",
    "     col('Contract Start Date') > '2021-09-31'\n",
    ").count()"
   ]
  },
  {
   "cell_type": "markdown",
   "id": "c8845b92",
   "metadata": {},
   "source": [
    "**There are 134 new customers who are registered since October 2021. The last metrics data we have is October 2021. This means, we do not have enough data about these new customers. I'll remove those who are registered after september so we have some [a month] metrices data for these customers.**"
   ]
  },
  {
   "cell_type": "markdown",
   "id": "5aea9c79-a42a-4b6b-92a9-13a2812951f8",
   "metadata": {},
   "source": [
    "---\n",
    "### Stundardize column names"
   ]
  },
  {
   "cell_type": "code",
   "execution_count": 23,
   "id": "ac0a3e1d-abe8-4b49-89ac-c1ac8802cbc9",
   "metadata": {},
   "outputs": [],
   "source": [
    "def sanitize_column_name(name):\n",
    "    answer = name\n",
    "    for i, j in ((\" \", \"_\"), (\"-\", \"_\"), (\"/\", \"_\")):\n",
    "        answer = answer.replace(i, j).lower()\n",
    "    return \"\".join(\n",
    "        [char for char in answer if char.isalpha() or char.isdigit() or char == \"_\"]\n",
    "   )"
   ]
  },
  {
   "cell_type": "code",
   "execution_count": 24,
   "id": "12688195-20b3-47a8-bfc2-8206a3967c62",
   "metadata": {},
   "outputs": [],
   "source": [
    "contracts_df = contracts_df.toDF(*[sanitize_column_name(name) for name in contracts_df.columns])"
   ]
  },
  {
   "cell_type": "code",
   "execution_count": 25,
   "id": "7d937b19-19ca-4783-9085-8daef021bad8",
   "metadata": {},
   "outputs": [],
   "source": [
    "accounts_df = accounts_df.toDF(*[sanitize_column_name(name) for name in accounts_df.columns])"
   ]
  },
  {
   "cell_type": "code",
   "execution_count": 26,
   "id": "11fdccde-f925-42a0-8f8d-74a66e9f88e7",
   "metadata": {},
   "outputs": [],
   "source": [
    "metrics_df = metrics_df.toDF(*[sanitize_column_name(name) for name in metrics_df.columns])"
   ]
  },
  {
   "cell_type": "markdown",
   "id": "0abb6401",
   "metadata": {},
   "source": [
    "----\n",
    "# Join \n",
    "### Let's first join the Account df with Contracts df [last contract for given customer]"
   ]
  },
  {
   "cell_type": "markdown",
   "id": "b9c87fb9",
   "metadata": {},
   "source": [
    "Let's convert the billing amount to some buckets. Before that, I devide the amount by tenure to get the amount per month."
   ]
  },
  {
   "cell_type": "code",
   "execution_count": 27,
   "id": "533bb577",
   "metadata": {},
   "outputs": [],
   "source": [
    "contracts_df = contracts_df.withColumn(\n",
    "    'tenure',\n",
    "    when(\n",
    "        col('contract_end_date').isNotNull(),\n",
    "        when(\n",
    "            round(months_between(to_date('contract_end_date'), to_date('contract_start_date')), 0) < 1, 1\n",
    "        ).otherwise(round(months_between(to_date('contract_end_date'), to_date('contract_start_date')), 0))\n",
    "    )\n",
    ").withColumn(\n",
    "    'billing_month',\n",
    "    round(col('billing_amount_converted') / col('tenure'), 2)\n",
    ")"
   ]
  },
  {
   "cell_type": "code",
   "execution_count": 28,
   "id": "b4c684d3",
   "metadata": {},
   "outputs": [],
   "source": [
    "contracts_df = QuantileDiscretizer(numBuckets=4, inputCol='billing_month',outputCol='billing_bucket').fit(contracts_df).transform(contracts_df).drop('billing_month', 'billing_amount')"
   ]
  },
  {
   "cell_type": "code",
   "execution_count": 29,
   "id": "d9a0d255",
   "metadata": {},
   "outputs": [
    {
     "data": {
      "text/plain": [
       "Text(0.5, 1.0, 'Billing buckets')"
      ]
     },
     "execution_count": 29,
     "metadata": {},
     "output_type": "execute_result"
    },
    {
     "data": {
      "image/png": "[encoded data removed]",
      "text/plain": [
       "<Figure size 1440x504 with 1 Axes>"
      ]
     },
     "metadata": {},
     "output_type": "display_data"
    }
   ],
   "source": [
    "plot = sns.barplot(\n",
    "    x='billing_bucket',\n",
    "    y='count',\n",
    "    data=contracts_df.groupby('billing_bucket').count().toPandas()\n",
    ")\n",
    "plot.set_title('Billing buckets')"
   ]
  },
  {
   "cell_type": "code",
   "execution_count": 30,
   "id": "9139eaa1",
   "metadata": {},
   "outputs": [],
   "source": [
    "contracts_df = contracts_df.dropna(subset='billing_bucket')"
   ]
  },
  {
   "cell_type": "code",
   "execution_count": 31,
   "id": "a5696b8a",
   "metadata": {},
   "outputs": [],
   "source": [
    "# select the row [Account ID] with the latest date.\n",
    "w = Window.partitionBy('account_id').orderBy(desc('contract_start_date'))\n",
    "lates_contract_df = contracts_df.withColumn('rank', dense_rank().over(w))\n",
    "\n",
    "lates_contract_df = lates_contract_df.filter(\n",
    "    lates_contract_df.rank == 1\n",
    ").drop(lates_contract_df.rank)\n"
   ]
  },
  {
   "cell_type": "code",
   "execution_count": 32,
   "id": "849f769a",
   "metadata": {},
   "outputs": [],
   "source": [
    "df_business = lates_contract_df.join(\n",
    "    accounts_df,\n",
    "    on='account_id',\n",
    "    how='left'\n",
    ").select(\n",
    "    'account_id', 'contract_start_date', 'contract_end_date', 'account_type', 'contract_type', 'industry', 'country', 'company_type', 'recurrence', 'billing_bucket', '6_months_opt_out', 'opt_out_exercised', 'tenure', 'account_status'\n",
    ").filter(\n",
    "    col('contract_start_date') < '2021-09-01'\n",
    ")"
   ]
  },
  {
   "cell_type": "markdown",
   "id": "b2726ea7",
   "metadata": {},
   "source": [
    "**new feature \"isChurn\" which have 0 as active users and 1 for paused/canceled users.**"
   ]
  },
  {
   "cell_type": "code",
   "execution_count": 33,
   "id": "70b61294",
   "metadata": {},
   "outputs": [],
   "source": [
    "df_business = df_business.withColumn(\n",
    "    'isChurn',\n",
    "    when(\n",
    "        col('account_status') == 'Active', 0\n",
    "    ).otherwise(1)\n",
    ").drop('account_status')"
   ]
  },
  {
   "cell_type": "code",
   "execution_count": 34,
   "id": "a6b24660",
   "metadata": {},
   "outputs": [
    {
     "name": "stdout",
     "output_type": "stream",
     "text": [
      "root\n",
      " |-- account_id: string (nullable = true)\n",
      " |-- contract_start_date: string (nullable = true)\n",
      " |-- contract_end_date: string (nullable = true)\n",
      " |-- account_type: string (nullable = true)\n",
      " |-- contract_type: string (nullable = true)\n",
      " |-- industry: string (nullable = true)\n",
      " |-- country: string (nullable = true)\n",
      " |-- company_type: string (nullable = true)\n",
      " |-- recurrence: string (nullable = true)\n",
      " |-- billing_bucket: double (nullable = true)\n",
      " |-- 6_months_opt_out: boolean (nullable = true)\n",
      " |-- opt_out_exercised: boolean (nullable = true)\n",
      " |-- tenure: double (nullable = true)\n",
      " |-- isChurn: integer (nullable = false)\n",
      "\n"
     ]
    }
   ],
   "source": [
    "df_business.printSchema()"
   ]
  },
  {
   "cell_type": "code",
   "execution_count": 35,
   "id": "d3d63f08",
   "metadata": {},
   "outputs": [
    {
     "name": "stdout",
     "output_type": "stream",
     "text": [
      "+---------------+----------+------+-------+-------------+---------+------+\n",
      "|      accountid|      date|alerts|matches|infringements|takedowns|closed|\n",
      "+---------------+----------+------+-------+-------------+---------+------+\n",
      "|0010Y00000VbDuq|2018-01-01|     0|      0|            0|        0|     0|\n",
      "|0011n00001nRPTs|2018-01-01|     0|      0|            0|        0|     0|\n",
      "|0010Y00001csUlQ|2018-01-01|     0|      0|            0|        0|     0|\n",
      "|0011n00002QdOPG|2018-01-01|     0|      0|            0|        0|     0|\n",
      "|0011n000024A5qc|2018-01-01|     0|      0|            0|        0|     0|\n",
      "+---------------+----------+------+-------+-------------+---------+------+\n",
      "only showing top 5 rows\n",
      "\n"
     ]
    },
    {
     "name": "stderr",
     "output_type": "stream",
     "text": [
      "                                                                                \r"
     ]
    }
   ],
   "source": [
    "metrics_df_sum = metrics_df.select('accountid', 'date', 'alerts', 'matches', 'infringements', 'takedowns', 'closed').sort('date')\n",
    "metrics_df_sum.show(5)"
   ]
  },
  {
   "cell_type": "markdown",
   "id": "c8e06b5e",
   "metadata": {},
   "source": [
    "### Now let's join the new DF with the metrice df [selected features]"
   ]
  },
  {
   "cell_type": "code",
   "execution_count": 36,
   "id": "4433981c",
   "metadata": {},
   "outputs": [],
   "source": [
    "df = df_business.join(\n",
    "    metrics_df_sum,\n",
    "    on=(col('accountid') == col('account_id')),\n",
    "    how='left'\n",
    ").select(\n",
    "    'account_id',\n",
    "    'date',\n",
    "    'contract_start_date',\n",
    "    'contract_end_date',\n",
    "    'tenure',\n",
    "    'account_type',\n",
    "    'contract_type',\n",
    "    'industry',\n",
    "    'country',\n",
    "    'recurrence',\n",
    "    col('6_months_opt_out').alias('opt_out'),\n",
    "    'opt_out_exercised',\n",
    "    'company_type',\n",
    "    'billing_bucket',\n",
    "    'matches',\n",
    "    'infringements',\n",
    "    'takedowns',\n",
    "    'closed',\n",
    "    'isChurn'\n",
    ").dropna(subset=['contract_end_date']).sort('date')"
   ]
  },
  {
   "cell_type": "code",
   "execution_count": 37,
   "id": "bf3e0e9c",
   "metadata": {},
   "outputs": [
    {
     "name": "stderr",
     "output_type": "stream",
     "text": [
      "[Stage 153:============================================>        (168 + 8) / 200]\r"
     ]
    },
    {
     "name": "stdout",
     "output_type": "stream",
     "text": [
      "+---------------+----+-------------------+-----------------+------+-------------+-------------+--------------+-------------+-------------+-------+-----------------+------------+--------------+-------+-------------+---------+------+-------+\n",
      "|     account_id|date|contract_start_date|contract_end_date|tenure| account_type|contract_type|      industry|      country|   recurrence|opt_out|opt_out_exercised|company_type|billing_bucket|matches|infringements|takedowns|closed|isChurn|\n",
      "+---------------+----+-------------------+-----------------+------+-------------+-------------+--------------+-------------+-------------+-------+-----------------+------------+--------------+-------+-------------+---------+------+-------+\n",
      "|0011n00002498oI|null|         2019-09-01|       2020-02-06|   5.0|Former Client| New Business|        Health|       ISRAEL|      Monthly|  false|            false|         SME|           3.0|   null|         null|     null|  null|      1|\n",
      "|0011n0000259KkZ|null|         2019-07-05|       2019-08-05|   1.0|Former Client| New Business|       Fashion|UNITED STATES|Non-Recurrent|  false|            false|         SME|           0.0|   null|         null|     null|  null|      1|\n",
      "|0011n00002gAiW8|null|         2021-06-22|       2022-06-30|  12.0|     Customer| New Business|       Fashion|UNITED STATES|    Recurrent|   true|            false|         SME|           2.0|   null|         null|     null|  null|      1|\n",
      "|0011n00002eWsv3|null|         2021-06-14|       2022-07-04|  13.0|     Customer| New Business|       Fashion|UNITED STATES|    Recurrent|   true|             true|         SME|           3.0|   null|         null|     null|  null|      0|\n",
      "|0011n00001vVUlE|null|         2019-01-28|       2019-06-01|   4.0|Former Client| New Business|Consumer Goods|UNITED STATES|      Monthly|  false|            false|         SME|           3.0|   null|         null|     null|  null|      1|\n",
      "+---------------+----+-------------------+-----------------+------+-------------+-------------+--------------+-------------+-------------+-------+-----------------+------------+--------------+-------+-------------+---------+------+-------+\n",
      "only showing top 5 rows\n",
      "\n"
     ]
    },
    {
     "name": "stderr",
     "output_type": "stream",
     "text": [
      "                                                                                \r"
     ]
    }
   ],
   "source": [
    "df.show(5)"
   ]
  },
  {
   "cell_type": "markdown",
   "id": "efdef9a1",
   "metadata": {},
   "source": [
    "Let's address null values:\n",
    "- date default value will be the last date (2021-09-31)\n",
    "- matches and other columns will be 0"
   ]
  },
  {
   "cell_type": "code",
   "execution_count": 38,
   "id": "0c8b14c1",
   "metadata": {},
   "outputs": [],
   "source": [
    "df = df.na.fill(\n",
    "    value=0, subset=['matches', 'infringements', 'takedowns', 'closed']\n",
    ").withColumn(\n",
    "    'date',\n",
    "    when(col('date').isNull(), '2021-09-31').otherwise(col('date'))\n",
    ").sort('date')"
   ]
  },
  {
   "cell_type": "code",
   "execution_count": 39,
   "id": "5b756a3c",
   "metadata": {},
   "outputs": [
    {
     "name": "stderr",
     "output_type": "stream",
     "text": [
      "[Stage 158:==========================================>          (162 + 8) / 200]\r"
     ]
    },
    {
     "name": "stdout",
     "output_type": "stream",
     "text": [
      "+---------------+----------+-------------------+-----------------+------+-------------+-------------+-----------------+-------------+----------+-------+-----------------+------------+--------------+-------+-------------+---------+------+-------+\n",
      "|     account_id|      date|contract_start_date|contract_end_date|tenure| account_type|contract_type|         industry|      country|recurrence|opt_out|opt_out_exercised|company_type|billing_bucket|matches|infringements|takedowns|closed|isChurn|\n",
      "+---------------+----------+-------------------+-----------------+------+-------------+-------------+-----------------+-------------+----------+-------+-----------------+------------+--------------+-------+-------------+---------+------+-------+\n",
      "|0011n0000259LyC|2018-01-01|         2021-07-02|       2022-07-01|  12.0|     Customer|      Renewal|             Auto|       BRAZIL| Recurrent|  false|            false|         SME|           1.0|      0|            0|        0|     0|      0|\n",
      "|0011n00002ZugA7|2018-01-01|         2021-03-02|       2021-10-02|   7.0|Former Client| New Business|          Fashion|UNITED STATES| Recurrent|   true|             true|         SME|           1.0|      0|            0|        0|     0|      1|\n",
      "|0011n00002NtUjN|2018-01-01|         2021-06-03|       2022-06-02|  12.0|     Customer|      Renewal|          Fashion|UNITED STATES| Recurrent|  false|            false|         SME|           2.0|      0|            0|        0|     0|      0|\n",
      "|0011n000026QyzW|2018-01-01|         2020-10-27|       2021-06-25|   8.0|     Customer|       Upsell|Toys, Kids & baby|UNITED STATES| Recurrent|   true|            false|         SME|           0.0|      0|            0|        0|     0|      0|\n",
      "|0010Y00001YPsZx|2018-01-01|         2021-08-01|       2022-07-31|  12.0|     Customer|     Downsell|             Auto|UNITED STATES| Recurrent|  false|            false|         SME|           2.0|      0|            0|        0|     0|      0|\n",
      "+---------------+----------+-------------------+-----------------+------+-------------+-------------+-----------------+-------------+----------+-------+-----------------+------------+--------------+-------+-------------+---------+------+-------+\n",
      "only showing top 5 rows\n",
      "\n"
     ]
    },
    {
     "name": "stderr",
     "output_type": "stream",
     "text": [
      "                                                                                \r"
     ]
    }
   ],
   "source": [
    "df.show(5)"
   ]
  },
  {
   "cell_type": "code",
   "execution_count": 40,
   "id": "ebca21f8",
   "metadata": {},
   "outputs": [
    {
     "name": "stderr",
     "output_type": "stream",
     "text": [
      "                                                                                \r"
     ]
    },
    {
     "data": {
      "text/plain": [
       "523251"
      ]
     },
     "execution_count": 40,
     "metadata": {},
     "output_type": "execute_result"
    }
   ],
   "source": [
    "df.count()"
   ]
  },
  {
   "cell_type": "code",
   "execution_count": 41,
   "id": "650fe14b",
   "metadata": {},
   "outputs": [
    {
     "name": "stderr",
     "output_type": "stream",
     "text": [
      "[Stage 169:=======================================>             (149 + 8) / 200]\r"
     ]
    },
    {
     "name": "stdout",
     "output_type": "stream",
     "text": [
      "+----------+----------+\n",
      "| min(date)| max(date)|\n",
      "+----------+----------+\n",
      "|2018-01-01|2021-10-02|\n",
      "+----------+----------+\n",
      "\n"
     ]
    },
    {
     "name": "stderr",
     "output_type": "stream",
     "text": [
      "                                                                                \r"
     ]
    }
   ],
   "source": [
    "df.groupby().agg(\n",
    "    min('date'),\n",
    "    max('date')\n",
    ").show()"
   ]
  },
  {
   "cell_type": "code",
   "execution_count": 42,
   "id": "ff9f2a50",
   "metadata": {},
   "outputs": [
    {
     "name": "stderr",
     "output_type": "stream",
     "text": [
      "[Stage 175:=======================================>             (150 + 8) / 200]\r"
     ]
    },
    {
     "name": "stdout",
     "output_type": "stream",
     "text": [
      "+------------------------+------------------------+\n",
      "|min(contract_start_date)|max(contract_start_date)|\n",
      "+------------------------+------------------------+\n",
      "|              2018-01-02|              2021-08-31|\n",
      "+------------------------+------------------------+\n",
      "\n"
     ]
    },
    {
     "name": "stderr",
     "output_type": "stream",
     "text": [
      "                                                                                \r"
     ]
    }
   ],
   "source": [
    "df.groupby().agg(\n",
    "    min('contract_start_date'),\n",
    "    max('contract_start_date')\n",
    ").show()"
   ]
  },
  {
   "cell_type": "code",
   "execution_count": 43,
   "id": "3c224278",
   "metadata": {},
   "outputs": [
    {
     "name": "stderr",
     "output_type": "stream",
     "text": [
      "[Stage 181:=====================================>               (142 + 8) / 200]\r"
     ]
    },
    {
     "name": "stdout",
     "output_type": "stream",
     "text": [
      "+----------+----+-------------------+-----------------+------+------------+-------------+--------+-------+----------+-------+-----------------+------------+--------------+-------+-------------+---------+------+-------+\n",
      "|account_id|date|contract_start_date|contract_end_date|tenure|account_type|contract_type|industry|country|recurrence|opt_out|opt_out_exercised|company_type|billing_bucket|matches|infringements|takedowns|closed|isChurn|\n",
      "+----------+----+-------------------+-----------------+------+------------+-------------+--------+-------+----------+-------+-----------------+------------+--------------+-------+-------------+---------+------+-------+\n",
      "|         0|   0|                  0|                0|     0|           0|            0|       0|      0|         0|      0|                0|           0|             0|      0|            0|        0|     0|      0|\n",
      "+----------+----+-------------------+-----------------+------+------------+-------------+--------+-------+----------+-------+-----------------+------------+--------------+-------+-------------+---------+------+-------+\n",
      "\n"
     ]
    },
    {
     "name": "stderr",
     "output_type": "stream",
     "text": [
      "                                                                                \r"
     ]
    }
   ],
   "source": [
    "df.select([count(when(col(column).isNull(), column)).alias(column) for column in df.columns]).show()"
   ]
  },
  {
   "cell_type": "code",
   "execution_count": 44,
   "id": "45402537",
   "metadata": {},
   "outputs": [
    {
     "name": "stderr",
     "output_type": "stream",
     "text": [
      "22/02/22 16:16:52 WARN MemoryManager: Total allocation exceeds 95,00% (1 020 054 720 bytes) of heap memory\n",
      "Scaling row group sizes to 95,00% for 8 writers\n",
      "22/02/22 16:16:53 WARN MemoryManager: Total allocation exceeds 95,00% (1 020 054 720 bytes) of heap memory\n",
      "Scaling row group sizes to 95,00% for 8 writers\n",
      "22/02/22 16:16:53 WARN MemoryManager: Total allocation exceeds 95,00% (1 020 054 720 bytes) of heap memory\n",
      "Scaling row group sizes to 95,00% for 8 writers\n",
      "                                                                                \r"
     ]
    }
   ],
   "source": [
    "df.write.save('data/complete_df.parquet', format='parquet', mode='overwrite')"
   ]
  },
  {
   "cell_type": "code",
   "execution_count": 45,
   "id": "93f06477",
   "metadata": {},
   "outputs": [
    {
     "name": "stderr",
     "output_type": "stream",
     "text": [
      "                                                                                \r"
     ]
    }
   ],
   "source": [
    "df_business.coalesce(1).write.save('data/business_df', format='csv', mode='overwrite', header=True)"
   ]
  },
  {
   "cell_type": "code",
   "execution_count": 46,
   "id": "2f8694f2-c5a0-4267-9e44-9b8f396c8d3a",
   "metadata": {},
   "outputs": [],
   "source": [
    "accounts_df.coalesce(1).write.save('data/accounts_clean', format='csv', mode='overwrite', header=True)"
   ]
  },
  {
   "cell_type": "code",
   "execution_count": 47,
   "id": "bdbf335b-ce3a-4cec-9537-89359c81ef5f",
   "metadata": {},
   "outputs": [],
   "source": [
    "contracts_df.coalesce(1).write.save('data/contracts_clean', format='csv', mode='overwrite', header=True)"
   ]
  },
  {
   "cell_type": "code",
   "execution_count": 48,
   "id": "b6d278f6-a0ce-42a6-97f1-e2752d868cf3",
   "metadata": {},
   "outputs": [
    {
     "name": "stderr",
     "output_type": "stream",
     "text": [
      "                                                                                \r"
     ]
    }
   ],
   "source": [
    "metrics_df.coalesce(1).write.save('data/metrics_clean', format='csv', mode='overwrite', header=True)"
   ]
  }
 ],
 "metadata": {
  "kernelspec": {
   "display_name": "Python 3 (ipykernel)",
   "language": "python",
   "name": "python3"
  },
  "language_info": {
   "codemirror_mode": {
    "name": "ipython",
    "version": 3
   },
   "file_extension": ".py",
   "mimetype": "text/x-python",
   "name": "python",
   "nbconvert_exporter": "python",
   "pygments_lexer": "ipython3",
   "version": "3.8.5"
  }
 },
 "nbformat": 4,
 "nbformat_minor": 5
}
