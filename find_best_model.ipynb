{
 "cells": [
  {
   "cell_type": "markdown",
   "id": "732c5d31",
   "metadata": {},
   "source": [
    "### Modules Imports"
   ]
  },
  {
   "cell_type": "code",
   "execution_count": 1,
   "id": "292bb332",
   "metadata": {},
   "outputs": [],
   "source": [
    "import os\n",
    "import time\n",
    "import regex as re\n",
    "import numpy as np\n",
    "import pandas as pd\n",
    "\n",
    "from pyspark.sql import SparkSession\n",
    "from pyspark.sql.functions import *\n",
    "from pyspark.sql.window import Window\n",
    "from pyspark.sql.types import FloatType, ArrayType\n",
    "\n",
    "from pyspark.ml.classification import GBTClassifier, RandomForestClassifier\n",
    "from pyspark.ml.evaluation import  BinaryClassificationEvaluator\n",
    "from pyspark.ml.feature import VectorAssembler, VectorIndexer, OneHotEncoder, StringIndexer, StandardScaler\n",
    "from pyspark.ml.tuning import ParamGridBuilder, CrossValidator\n",
    "from pyspark.ml import Pipeline\n",
    "from pyspark.mllib.evaluation import BinaryClassificationMetrics\n",
    "from pyspark.ml.functions import vector_to_array\n",
    "\n",
    "import matplotlib.pyplot as plt\n",
    "import matplotlib.ticker as ticker\n",
    "import seaborn as sns\n",
    "\n",
    "# visualization customization\n",
    "%matplotlib inline\n",
    "plt.style.use('ggplot')\n",
    "plt.rcParams['figure.figsize'] = [20, 7]"
   ]
  },
  {
   "cell_type": "markdown",
   "id": "eacde458",
   "metadata": {},
   "source": [
    "---\n",
    "# Data Importation & Preprocessing"
   ]
  },
  {
   "cell_type": "code",
   "execution_count": 2,
   "id": "05c952bd",
   "metadata": {},
   "outputs": [
    {
     "name": "stderr",
     "output_type": "stream",
     "text": [
      "22/02/22 16:19:33 WARN Utils: Your hostname, Sams-MacBook-Pro.local resolves to a loopback address: 127.0.0.1; using 192.168.1.48 instead (on interface en0)\n",
      "22/02/22 16:19:33 WARN Utils: Set SPARK_LOCAL_IP if you need to bind to another address\n",
      "WARNING: An illegal reflective access operation has occurred\n",
      "WARNING: Illegal reflective access by org.apache.spark.unsafe.Platform (file:/usr/local/anaconda3/lib/python3.8/site-packages/pyspark/jars/spark-unsafe_2.12-3.1.1.jar) to constructor java.nio.DirectByteBuffer(long,int)\n",
      "WARNING: Please consider reporting this to the maintainers of org.apache.spark.unsafe.Platform\n",
      "WARNING: Use --illegal-access=warn to enable warnings of further illegal reflective access operations\n",
      "WARNING: All illegal access operations will be denied in a future release\n",
      "22/02/22 16:19:33 WARN NativeCodeLoader: Unable to load native-hadoop library for your platform... using builtin-java classes where applicable\n",
      "Using Spark's default log4j profile: org/apache/spark/log4j-defaults.properties\n",
      "Setting default log level to \"WARN\".\n",
      "To adjust logging level use sc.setLogLevel(newLevel). For SparkR, use setLogLevel(newLevel).\n",
      "22/02/22 16:19:34 WARN Utils: Service 'SparkUI' could not bind on port 4040. Attempting port 4041.\n",
      "22/02/22 16:19:34 WARN Utils: Service 'SparkUI' could not bind on port 4041. Attempting port 4042.\n",
      "22/02/22 16:19:34 WARN Utils: Service 'SparkUI' could not bind on port 4042. Attempting port 4043.\n",
      "22/02/22 16:19:34 WARN Utils: Service 'SparkUI' could not bind on port 4043. Attempting port 4044.\n"
     ]
    }
   ],
   "source": [
    "spark = SparkSession \\\n",
    "    .builder \\\n",
    "    .appName(\"Find_best_model\") \\\n",
    "    .getOrCreate()"
   ]
  },
  {
   "cell_type": "code",
   "execution_count": 3,
   "id": "31f1f0e0",
   "metadata": {},
   "outputs": [
    {
     "name": "stderr",
     "output_type": "stream",
     "text": [
      "                                                                                \r"
     ]
    }
   ],
   "source": [
    "df = spark.sql(\"SELECT * FROM parquet.`data/complete_df.parquet`\")"
   ]
  },
  {
   "cell_type": "code",
   "execution_count": 4,
   "id": "c6a01345",
   "metadata": {},
   "outputs": [],
   "source": [
    "df = df.withColumn(\n",
    "    'opt_out',\n",
    "    when(\n",
    "        col('opt_out') == 'true', 1\n",
    "    ).otherwise(0)\n",
    ").withColumn(\n",
    "    'opt_out_exercised',\n",
    "    when(\n",
    "        col('opt_out_exercised') == 'true', 1\n",
    "    ).otherwise(0)\n",
    ")"
   ]
  },
  {
   "cell_type": "code",
   "execution_count": 5,
   "id": "13d5e5a0",
   "metadata": {},
   "outputs": [
    {
     "name": "stderr",
     "output_type": "stream",
     "text": [
      "                                                                                \r"
     ]
    }
   ],
   "source": [
    "indexer = StringIndexer(\n",
    "    inputCols=['contract_type', 'industry', 'country', 'company_type',  'recurrence'],\n",
    "    outputCols=['contract_types', 'industries', 'countries', 'company_types',  'recurrences']\n",
    ")\n",
    "df_ml = indexer.setHandleInvalid('keep').fit(df).transform(df).drop('contract_type', 'industry', 'country', 'company_type',  'recurrence')"
   ]
  },
  {
   "cell_type": "code",
   "execution_count": 6,
   "id": "e1d05e69",
   "metadata": {},
   "outputs": [
    {
     "name": "stdout",
     "output_type": "stream",
     "text": [
      "+---------------+----------+-------------------+-----------------+------+------------+-------+-----------------+--------------+-------+-------------+---------+------+-------+-----------+----------+--------------+---------+-------------+\n",
      "|     account_id|      date|contract_start_date|contract_end_date|tenure|account_type|opt_out|opt_out_exercised|billing_bucket|matches|infringements|takedowns|closed|isChurn|recurrences|industries|contract_types|countries|company_types|\n",
      "+---------------+----------+-------------------+-----------------+------+------------+-------+-----------------+--------------+-------+-------------+---------+------+-------+-----------+----------+--------------+---------+-------------+\n",
      "|0011n00001vVDsy|2019-12-11|         2020-08-26|       2021-08-26|  12.0|    Customer|      0|                0|           2.0|      0|            0|        0|     0|      0|        0.0|       4.0|           1.0|      9.0|          0.0|\n",
      "+---------------+----------+-------------------+-----------------+------+------------+-------+-----------------+--------------+-------+-------------+---------+------+-------+-----------+----------+--------------+---------+-------------+\n",
      "only showing top 1 row\n",
      "\n"
     ]
    }
   ],
   "source": [
    "df_ml.show(1)"
   ]
  },
  {
   "cell_type": "code",
   "execution_count": 7,
   "id": "f6497486",
   "metadata": {},
   "outputs": [
    {
     "name": "stderr",
     "output_type": "stream",
     "text": [
      "                                                                                \r"
     ]
    }
   ],
   "source": [
    "columns = ['tenure', 'contract_types', 'industries', 'recurrences', 'opt_out', 'opt_out_exercised', 'company_types','matches', 'infringements', 'takedowns', 'closed', 'billing_bucket']  # 'country'\n",
    "\n",
    "assembler = VectorAssembler(inputCols=columns, outputCol='_features').setHandleInvalid('skip')\n",
    "scaler = StandardScaler(inputCol='_features' , outputCol='features')\n",
    "\n",
    "\n",
    "#Create pipeline which is index the categorical columns, encode them and assemble all variables to assembler\n",
    "pipeline_stages = Pipeline(stages=[assembler, scaler])\n",
    "\n",
    "model_df = pipeline_stages.fit(df_ml).transform(df_ml)\n",
    "model_df = model_df.select('date', 'account_id', 'features', col('isChurn').alias('label'))"
   ]
  },
  {
   "cell_type": "code",
   "execution_count": 8,
   "id": "bd86587e",
   "metadata": {},
   "outputs": [
    {
     "name": "stdout",
     "output_type": "stream",
     "text": [
      "+----------+---------------+-------------------------------------------------------------------------------------------------------------------------------------------------------------------------+-----+\n",
      "|date      |account_id     |features                                                                                                                                                                 |label|\n",
      "+----------+---------------+-------------------------------------------------------------------------------------------------------------------------------------------------------------------------+-----+\n",
      "|2019-12-11|0011n00001vVDsy|(12,[0,1,2,11],[2.370970559704452,1.0186624941839226,1.268945127455436,1.9177182955767853])                                                                              |0    |\n",
      "|2019-12-11|0011n00001xVkPa|(12,[0,1,3],[1.97580879975371,2.0373249883678453,4.84438846020001])                                                                                                      |0    |\n",
      "|2019-12-11|0011n00001xVkPa|(12,[0,1,3,8,9],[1.97580879975371,2.0373249883678453,4.84438846020001,0.017178155872274423,0.039949787291128025])                                                        |0    |\n",
      "|2019-12-11|0011n0000259Ozz|(12,[0,1,6,11],[2.370970559704452,1.0186624941839226,1.660511893060342,1.9177182955767853])                                                                              |0    |\n",
      "|2019-12-11|0011n00001iab7U|[5.532264639310387,1.0186624941839226,0.951708845591577,2.422194230100005,0.0,0.0,0.0,0.37041149747123175,0.0,0.21306553221934946,0.10044941541822375,0.9588591477883927]|1    |\n",
      "+----------+---------------+-------------------------------------------------------------------------------------------------------------------------------------------------------------------------+-----+\n",
      "only showing top 5 rows\n",
      "\n"
     ]
    }
   ],
   "source": [
    "model_df.show(5, False)"
   ]
  },
  {
   "cell_type": "code",
   "execution_count": 9,
   "id": "14806c2f",
   "metadata": {},
   "outputs": [
    {
     "name": "stderr",
     "output_type": "stream",
     "text": [
      "                                                                                \r"
     ]
    },
    {
     "data": {
      "text/plain": [
       "523251"
      ]
     },
     "execution_count": 9,
     "metadata": {},
     "output_type": "execute_result"
    }
   ],
   "source": [
    "model_df.count()"
   ]
  },
  {
   "cell_type": "markdown",
   "id": "04865e31",
   "metadata": {},
   "source": [
    "---\n",
    "#### Split the data "
   ]
  },
  {
   "cell_type": "code",
   "execution_count": 10,
   "id": "c9c5f02f",
   "metadata": {},
   "outputs": [
    {
     "data": {
      "text/plain": [
       "'\\ntrain, test = model_df.randomSplit([0.8,0.2], seed=210)\\ntrain.cache()\\n'"
      ]
     },
     "execution_count": 10,
     "metadata": {},
     "output_type": "execute_result"
    }
   ],
   "source": [
    "'''\n",
    "train, test = model_df.randomSplit([0.8,0.2], seed=210)\n",
    "train.cache()\n",
    "'''"
   ]
  },
  {
   "cell_type": "code",
   "execution_count": 11,
   "id": "768a5734",
   "metadata": {},
   "outputs": [],
   "source": [
    "model_df = model_df.withColumn('rank', percent_rank().over(Window.partitionBy().orderBy('date')))"
   ]
  },
  {
   "cell_type": "code",
   "execution_count": 12,
   "id": "a2dc29ce",
   "metadata": {},
   "outputs": [],
   "source": [
    "train = model_df.where('rank <= .8').drop('rank', 'date')\n",
    "test = model_df.where('rank > .8').drop('rank', 'date')"
   ]
  },
  {
   "cell_type": "markdown",
   "id": "7dbdac2c-78b0-4936-8f47-3774e31f6faf",
   "metadata": {},
   "source": [
    "---\n",
    "Let's check the distribution of target variable in the training and testing set."
   ]
  },
  {
   "cell_type": "code",
   "execution_count": 13,
   "id": "8188475d-72d7-4756-90e9-72079babbed7",
   "metadata": {},
   "outputs": [
    {
     "name": "stderr",
     "output_type": "stream",
     "text": [
      "22/02/22 16:19:46 WARN WindowExec: No Partition Defined for Window operation! Moving all data to a single partition, this can cause serious performance degradation.\n",
      "[Stage 10:>                                                         (0 + 1) / 1]\r"
     ]
    },
    {
     "name": "stdout",
     "output_type": "stream",
     "text": [
      "+-----+------+\n",
      "|label| count|\n",
      "+-----+------+\n",
      "|    0|301024|\n",
      "|    1|117720|\n",
      "+-----+------+\n",
      "\n"
     ]
    },
    {
     "name": "stderr",
     "output_type": "stream",
     "text": [
      "                                                                                \r"
     ]
    }
   ],
   "source": [
    "train.groupby('label').count().show()"
   ]
  },
  {
   "cell_type": "code",
   "execution_count": 14,
   "id": "3fe22ece-fa84-41cd-9309-6e6b2bd668be",
   "metadata": {},
   "outputs": [
    {
     "name": "stderr",
     "output_type": "stream",
     "text": [
      "22/02/22 16:19:49 WARN WindowExec: No Partition Defined for Window operation! Moving all data to a single partition, this can cause serious performance degradation.\n",
      "[Stage 11:>                                                         (0 + 8) / 8]\r"
     ]
    },
    {
     "name": "stdout",
     "output_type": "stream",
     "text": [
      "+-----+-----+\n",
      "|label|count|\n",
      "+-----+-----+\n",
      "|    0|85533|\n",
      "|    1|18974|\n",
      "+-----+-----+\n",
      "\n"
     ]
    },
    {
     "name": "stderr",
     "output_type": "stream",
     "text": [
      "                                                                                \r"
     ]
    }
   ],
   "source": [
    "test.groupby('label').count().show()"
   ]
  },
  {
   "cell_type": "markdown",
   "id": "456d8293-205a-4bcb-b218-de2553317cde",
   "metadata": {},
   "source": [
    "As we can see, the distribution is skewed here. Since we are going to use trees and classification models, we don't need to worry about this."
   ]
  },
  {
   "cell_type": "markdown",
   "id": "0c493a4d",
   "metadata": {},
   "source": [
    "---\n",
    "\n",
    "# Model"
   ]
  },
  {
   "cell_type": "markdown",
   "id": "b04405a2",
   "metadata": {},
   "source": [
    "#### NOTE: We could train more models for this task. I choosed these two models as an example and since my corrent machine is very old, it takes ages to train :)"
   ]
  },
  {
   "cell_type": "code",
   "execution_count": 15,
   "id": "d220b688",
   "metadata": {},
   "outputs": [],
   "source": [
    "#Create RandomForest and GradientBoosting\n",
    "random_model = RandomForestClassifier(seed=210, labelCol='label')\n",
    "GBT_model = GBTClassifier(seed=210, labelCol='label')"
   ]
  },
  {
   "cell_type": "code",
   "execution_count": 16,
   "id": "29c4d9b4",
   "metadata": {},
   "outputs": [],
   "source": [
    "#Metric evaluator for predictions and isChurns\n",
    "evaluator= BinaryClassificationEvaluator(labelCol='label')"
   ]
  },
  {
   "cell_type": "code",
   "execution_count": 17,
   "id": "5439a9eb",
   "metadata": {},
   "outputs": [
    {
     "name": "stdout",
     "output_type": "stream",
     "text": [
      "RandomForestClassifier is training...\n"
     ]
    },
    {
     "name": "stderr",
     "output_type": "stream",
     "text": [
      "22/02/22 16:19:51 WARN WindowExec: No Partition Defined for Window operation! Moving all data to a single partition, this can cause serious performance degradation.\n",
      "22/02/22 16:19:51 WARN WindowExec: No Partition Defined for Window operation! Moving all data to a single partition, this can cause serious performance degradation.\n",
      "22/02/22 16:19:53 WARN WindowExec: No Partition Defined for Window operation! Moving all data to a single partition, this can cause serious performance degradation.\n",
      "22/02/22 16:20:09 WARN WindowExec: No Partition Defined for Window operation! Moving all data to a single partition, this can cause serious performance degradation.\n",
      "22/02/22 16:20:09 WARN WindowExec: No Partition Defined for Window operation! Moving all data to a single partition, this can cause serious performance degradation.\n",
      "22/02/22 16:20:09 WARN WindowExec: No Partition Defined for Window operation! Moving all data to a single partition, this can cause serious performance degradation.\n"
     ]
    },
    {
     "name": "stdout",
     "output_type": "stream",
     "text": [
      "fitted in 18.19 seconds\n",
      "\n",
      "Predicting...\n",
      "predicted in 0.04 seconds\n",
      "\n",
      "Evaluating...\n"
     ]
    },
    {
     "name": "stderr",
     "output_type": "stream",
     "text": [
      "22/02/22 16:20:12 WARN WindowExec: No Partition Defined for Window operation! Moving all data to a single partition, this can cause serious performance degradation.\n"
     ]
    },
    {
     "name": "stdout",
     "output_type": "stream",
     "text": [
      "Evaluated in 2.88 seconds\n",
      "Test areaUnderROC: 0.92\n",
      "******************************\n",
      "GBTClassifier is training...\n"
     ]
    },
    {
     "name": "stderr",
     "output_type": "stream",
     "text": [
      "22/02/22 16:20:12 WARN WindowExec: No Partition Defined for Window operation! Moving all data to a single partition, this can cause serious performance degradation.\n",
      "                                                                                \r"
     ]
    },
    {
     "name": "stdout",
     "output_type": "stream",
     "text": [
      "fitted in 25.04 seconds\n",
      "\n",
      "Predicting...\n",
      "predicted in 0.03 seconds\n",
      "\n",
      "Evaluating...\n"
     ]
    },
    {
     "name": "stderr",
     "output_type": "stream",
     "text": [
      "22/02/22 16:20:37 WARN WindowExec: No Partition Defined for Window operation! Moving all data to a single partition, this can cause serious performance degradation.\n",
      "22/02/22 16:20:38 WARN BLAS: Failed to load implementation from: com.github.fommil.netlib.NativeSystemBLAS\n",
      "22/02/22 16:20:38 WARN BLAS: Failed to load implementation from: com.github.fommil.netlib.NativeRefBLAS\n",
      "[Stage 357:>                                                        (0 + 1) / 1]\r"
     ]
    },
    {
     "name": "stdout",
     "output_type": "stream",
     "text": [
      "Evaluated in 1.94 seconds\n",
      "Test areaUnderROC: 0.96\n",
      "******************************\n"
     ]
    },
    {
     "name": "stderr",
     "output_type": "stream",
     "text": [
      "                                                                                \r"
     ]
    }
   ],
   "source": [
    "for model_ in [random_model, GBT_model]:\n",
    "    # Get the model name for representation\n",
    "    model_name = model_.__class__.__name__\n",
    "    \n",
    "    # Fit the training data into the model\n",
    "    print(f'{model_name} is training...')\n",
    "    start = time.time() \n",
    "    model = model_.fit(train,)\n",
    "    end = time.time()\n",
    "    print(f'fitted in {end - start:.2f} seconds\\n')\n",
    "    \n",
    "    # Prediction\n",
    "    print(f'Predicting...')\n",
    "    start = time.time() \n",
    "    predictions = model.transform(test)\n",
    "    end = time.time()\n",
    "    print(f'predicted in {end - start:.2f} seconds\\n')\n",
    "    \n",
    "    \n",
    "    #Evaluate the results of prediction    \n",
    "    print('Evaluating...')\n",
    "    start = time.time() \n",
    "    areaUnderROC = evaluator.evaluate(predictions,{evaluator.metricName: 'areaUnderROC'})\n",
    "    end = time.time()\n",
    "    \n",
    "    print(f'Evaluated in {end - start:.2f} seconds')\n",
    "    print(f'Test areaUnderROC: {areaUnderROC:.2f}')\n",
    "    print('*'*30)"
   ]
  },
  {
   "cell_type": "markdown",
   "id": "018db0bb",
   "metadata": {},
   "source": [
    "**I will take the random forest since the result is pretty good and the training time is less.**"
   ]
  },
  {
   "cell_type": "code",
   "execution_count": 18,
   "id": "4853bb26",
   "metadata": {},
   "outputs": [],
   "source": [
    "def random_forest_tuning(train, test, numTrees=[5, 10, 20], maxDepth=[5, 10, 20]):\n",
    "    \"\"\"\n",
    "    Tunes the RandomForestClassifier with given numTrees and maxDepth arguements\n",
    "    \n",
    "    INPUT: train set, test set, list of numTrees, list of maxDepth\n",
    "    OUTPUT: bestmodel after tuning\n",
    "    \"\"\"\n",
    "    #Model\n",
    "    rf_model = RandomForestClassifier()\n",
    "    \n",
    "    #Grid for parameter tuning\n",
    "    paramGrid = ParamGridBuilder() \\\n",
    "        .addGrid(rf_model.numTrees, numTrees) \\\n",
    "        .addGrid(rf_model.maxDepth, maxDepth) \\\n",
    "        .build()   \n",
    "    \n",
    "    #3 Fold Cross Validation\n",
    "    crossval = CrossValidator(\n",
    "        estimator=rf_model,\n",
    "        estimatorParamMaps=paramGrid,\n",
    "        evaluator=BinaryClassificationEvaluator(),\n",
    "        numFolds=4\n",
    "    )\n",
    "\n",
    "    # Run cross-validation, and choose the best set of parameters.\n",
    "    cv_model = crossval.fit(train)\n",
    "    \n",
    "    # Make predictions on test documents. cv_model uses the best model found (random forest).\n",
    "    predictions = cv_model.transform(test)\n",
    "    \n",
    "    #Model Evaluation\n",
    "    evaluator= BinaryClassificationEvaluator()\n",
    "    \n",
    "    areaUnderROC = evaluator.evaluate(predictions,{evaluator.metricName: 'areaUnderROC'})\n",
    "    \n",
    "    print('RESULTS:')\n",
    "    print('*'*30)\n",
    "    print(f'Test areaUnderROC: {areaUnderROC:.2f}')\n",
    "    print('*'*30)\n",
    "    \n",
    "    return cv_model.bestModel"
   ]
  },
  {
   "cell_type": "code",
   "execution_count": 19,
   "id": "955cbce7",
   "metadata": {},
   "outputs": [
    {
     "name": "stderr",
     "output_type": "stream",
     "text": [
      "22/02/22 16:20:39 WARN WindowExec: No Partition Defined for Window operation! Moving all data to a single partition, this can cause serious performance degradation.\n",
      "22/02/22 16:20:39 WARN WindowExec: No Partition Defined for Window operation! Moving all data to a single partition, this can cause serious performance degradation.\n",
      "22/02/22 16:21:29 WARN DAGScheduler: Broadcasting large task binary with size 1022.7 KiB\n",
      "22/02/22 16:21:30 WARN DAGScheduler: Broadcasting large task binary with size 1151.8 KiB\n",
      "22/02/22 16:21:31 WARN DAGScheduler: Broadcasting large task binary with size 1280.4 KiB\n",
      "22/02/22 16:21:32 WARN DAGScheduler: Broadcasting large task binary with size 1401.2 KiB\n",
      "22/02/22 16:21:33 WARN DAGScheduler: Broadcasting large task binary with size 1515.6 KiB\n",
      "22/02/22 16:22:16 WARN DAGScheduler: Broadcasting large task binary with size 1031.4 KiB\n",
      "22/02/22 16:22:18 WARN DAGScheduler: Broadcasting large task binary with size 1278.7 KiB\n",
      "22/02/22 16:22:20 WARN DAGScheduler: Broadcasting large task binary with size 1544.1 KiB\n",
      "22/02/22 16:22:23 WARN DAGScheduler: Broadcasting large task binary with size 1817.8 KiB\n",
      "22/02/22 16:22:27 WARN DAGScheduler: Broadcasting large task binary with size 2.0 MiB\n",
      "22/02/22 16:22:30 WARN DAGScheduler: Broadcasting large task binary with size 2.3 MiB\n",
      "22/02/22 16:22:33 WARN DAGScheduler: Broadcasting large task binary with size 2.5 MiB\n",
      "22/02/22 16:22:36 WARN DAGScheduler: Broadcasting large task binary with size 2.7 MiB\n",
      "22/02/22 16:22:39 WARN DAGScheduler: Broadcasting large task binary with size 2.9 MiB\n",
      "22/02/22 16:22:42 WARN DAGScheduler: Broadcasting large task binary with size 1605.6 KiB\n",
      "22/02/22 16:22:43 WARN WindowExec: No Partition Defined for Window operation! Moving all data to a single partition, this can cause serious performance degradation.\n",
      "22/02/22 16:22:43 WARN WindowExec: No Partition Defined for Window operation! Moving all data to a single partition, this can cause serious performance degradation.\n",
      "22/02/22 16:23:39 WARN DAGScheduler: Broadcasting large task binary with size 1070.3 KiB\n",
      "22/02/22 16:23:41 WARN DAGScheduler: Broadcasting large task binary with size 1180.3 KiB\n",
      "22/02/22 16:23:42 WARN DAGScheduler: Broadcasting large task binary with size 1288.8 KiB\n",
      "22/02/22 16:23:45 WARN DAGScheduler: Broadcasting large task binary with size 1394.8 KiB\n",
      "22/02/22 16:24:29 WARN DAGScheduler: Broadcasting large task binary with size 1050.0 KiB\n",
      "22/02/22 16:24:32 WARN DAGScheduler: Broadcasting large task binary with size 1299.0 KiB\n",
      "22/02/22 16:24:35 WARN DAGScheduler: Broadcasting large task binary with size 1565.4 KiB\n",
      "22/02/22 16:24:38 WARN DAGScheduler: Broadcasting large task binary with size 1845.3 KiB\n",
      "22/02/22 16:24:40 WARN DAGScheduler: Broadcasting large task binary with size 2.1 MiB\n",
      "22/02/22 16:24:43 WARN DAGScheduler: Broadcasting large task binary with size 2.3 MiB\n",
      "22/02/22 16:24:46 WARN DAGScheduler: Broadcasting large task binary with size 2.5 MiB\n",
      "22/02/22 16:24:49 WARN DAGScheduler: Broadcasting large task binary with size 2.8 MiB\n",
      "22/02/22 16:24:52 WARN DAGScheduler: Broadcasting large task binary with size 3.0 MiB\n",
      "22/02/22 16:24:55 WARN DAGScheduler: Broadcasting large task binary with size 1607.5 KiB\n",
      "22/02/22 16:24:56 WARN WindowExec: No Partition Defined for Window operation! Moving all data to a single partition, this can cause serious performance degradation.\n",
      "22/02/22 16:24:56 WARN WindowExec: No Partition Defined for Window operation! Moving all data to a single partition, this can cause serious performance degradation.\n",
      "22/02/22 16:25:48 WARN DAGScheduler: Broadcasting large task binary with size 1017.3 KiB\n",
      "22/02/22 16:25:49 WARN DAGScheduler: Broadcasting large task binary with size 1148.7 KiB\n",
      "22/02/22 16:25:50 WARN DAGScheduler: Broadcasting large task binary with size 1281.8 KiB\n",
      "22/02/22 16:25:51 WARN DAGScheduler: Broadcasting large task binary with size 1406.2 KiB\n",
      "22/02/22 16:25:53 WARN DAGScheduler: Broadcasting large task binary with size 1518.8 KiB\n",
      "22/02/22 16:26:47 WARN DAGScheduler: Broadcasting large task binary with size 1029.3 KiB\n",
      "22/02/22 16:26:52 WARN DAGScheduler: Broadcasting large task binary with size 1251.8 KiB\n",
      "22/02/22 16:26:56 WARN DAGScheduler: Broadcasting large task binary with size 1493.7 KiB\n",
      "22/02/22 16:27:00 WARN DAGScheduler: Broadcasting large task binary with size 1743.5 KiB\n",
      "22/02/22 16:27:03 WARN DAGScheduler: Broadcasting large task binary with size 1997.3 KiB\n",
      "22/02/22 16:27:06 WARN DAGScheduler: Broadcasting large task binary with size 2.2 MiB\n",
      "22/02/22 16:27:09 WARN DAGScheduler: Broadcasting large task binary with size 2.4 MiB\n",
      "22/02/22 16:27:13 WARN DAGScheduler: Broadcasting large task binary with size 2.6 MiB\n",
      "22/02/22 16:27:15 WARN DAGScheduler: Broadcasting large task binary with size 2.8 MiB\n",
      "22/02/22 16:27:18 WARN DAGScheduler: Broadcasting large task binary with size 1545.7 KiB\n",
      "22/02/22 16:27:19 WARN WindowExec: No Partition Defined for Window operation! Moving all data to a single partition, this can cause serious performance degradation.\n",
      "22/02/22 16:27:19 WARN WindowExec: No Partition Defined for Window operation! Moving all data to a single partition, this can cause serious performance degradation.\n",
      "22/02/22 16:28:09 WARN DAGScheduler: Broadcasting large task binary with size 1025.1 KiB\n",
      "22/02/22 16:28:10 WARN DAGScheduler: Broadcasting large task binary with size 1148.5 KiB\n",
      "22/02/22 16:28:11 WARN DAGScheduler: Broadcasting large task binary with size 1260.6 KiB\n",
      "22/02/22 16:28:13 WARN DAGScheduler: Broadcasting large task binary with size 1364.9 KiB\n",
      "22/02/22 16:28:14 WARN DAGScheduler: Broadcasting large task binary with size 1451.9 KiB\n",
      "22/02/22 16:29:09 WARN DAGScheduler: Broadcasting large task binary with size 1222.5 KiB\n",
      "22/02/22 16:29:12 WARN DAGScheduler: Broadcasting large task binary with size 1466.8 KiB\n",
      "22/02/22 16:29:15 WARN DAGScheduler: Broadcasting large task binary with size 1730.8 KiB\n",
      "22/02/22 16:29:18 WARN DAGScheduler: Broadcasting large task binary with size 2002.0 KiB\n",
      "22/02/22 16:29:21 WARN DAGScheduler: Broadcasting large task binary with size 2.2 MiB\n",
      "22/02/22 16:29:23 WARN DAGScheduler: Broadcasting large task binary with size 2.5 MiB\n",
      "22/02/22 16:29:26 WARN DAGScheduler: Broadcasting large task binary with size 2.8 MiB\n",
      "22/02/22 16:29:29 WARN DAGScheduler: Broadcasting large task binary with size 3.0 MiB\n",
      "22/02/22 16:29:32 WARN DAGScheduler: Broadcasting large task binary with size 1617.6 KiB\n",
      "22/02/22 16:29:33 WARN WindowExec: No Partition Defined for Window operation! Moving all data to a single partition, this can cause serious performance degradation.\n",
      "22/02/22 16:29:33 WARN WindowExec: No Partition Defined for Window operation! Moving all data to a single partition, this can cause serious performance degradation.\n",
      "22/02/22 16:29:33 WARN WindowExec: No Partition Defined for Window operation! Moving all data to a single partition, this can cause serious performance degradation.\n",
      "22/02/22 16:30:01 WARN DAGScheduler: Broadcasting large task binary with size 1032.6 KiB\n",
      "22/02/22 16:30:04 WARN DAGScheduler: Broadcasting large task binary with size 1293.7 KiB\n",
      "22/02/22 16:30:08 WARN DAGScheduler: Broadcasting large task binary with size 1590.0 KiB\n",
      "22/02/22 16:30:12 WARN DAGScheduler: Broadcasting large task binary with size 1903.1 KiB\n",
      "22/02/22 16:30:15 WARN DAGScheduler: Broadcasting large task binary with size 2.2 MiB\n",
      "22/02/22 16:30:21 WARN DAGScheduler: Broadcasting large task binary with size 2.5 MiB\n",
      "22/02/22 16:30:25 WARN DAGScheduler: Broadcasting large task binary with size 2.8 MiB\n",
      "22/02/22 16:30:29 WARN DAGScheduler: Broadcasting large task binary with size 3.1 MiB\n",
      "22/02/22 16:30:33 WARN DAGScheduler: Broadcasting large task binary with size 3.4 MiB\n",
      "22/02/22 16:30:37 WARN WindowExec: No Partition Defined for Window operation! Moving all data to a single partition, this can cause serious performance degradation.\n",
      "22/02/22 16:30:37 WARN WindowExec: No Partition Defined for Window operation! Moving all data to a single partition, this can cause serious performance degradation.\n",
      "22/02/22 16:30:38 WARN WindowExec: No Partition Defined for Window operation! Moving all data to a single partition, this can cause serious performance degradation.\n",
      "22/02/22 16:30:39 WARN DAGScheduler: Broadcasting large task binary with size 1791.0 KiB\n",
      "[Stage 2454:>                                                       (0 + 1) / 1]\r"
     ]
    },
    {
     "name": "stdout",
     "output_type": "stream",
     "text": [
      "RESULTS:\n",
      "******************************\n",
      "Test areaUnderROC: 0.99\n",
      "******************************\n"
     ]
    },
    {
     "name": "stderr",
     "output_type": "stream",
     "text": [
      "                                                                                \r"
     ]
    }
   ],
   "source": [
    "#Take the best model after parameter tuning\n",
    "best_model = random_forest_tuning(train=train, test=test)"
   ]
  },
  {
   "cell_type": "code",
   "execution_count": 20,
   "id": "85a3a883",
   "metadata": {},
   "outputs": [
    {
     "name": "stdout",
     "output_type": "stream",
     "text": [
      "\n",
      "Best parameters : max depth:20, num trees:20\n"
     ]
    }
   ],
   "source": [
    "print(f'\\nBest parameters : max depth:{best_model.getMaxDepth()}, num trees:{best_model.getNumTrees}')"
   ]
  },
  {
   "cell_type": "code",
   "execution_count": 21,
   "id": "ffdccf18",
   "metadata": {},
   "outputs": [
    {
     "data": {
      "image/png": "[encoded data removed]",
      "text/plain": [
       "<Figure size 1440x504 with 1 Axes>"
      ]
     },
     "metadata": {},
     "output_type": "display_data"
    }
   ],
   "source": [
    "feat_importance = pd.DataFrame(\n",
    "    list(\n",
    "        zip(columns, best_model.featureImportances)\n",
    "    ),\n",
    "    columns= ['Feature', 'Importance']\n",
    ")\n",
    "\n",
    "plt.title('Feature Importances of RandomForest')\n",
    "sns.barplot(\n",
    "    x='Feature',\n",
    "    y='Importance',\n",
    "    data=feat_importance.sort_values(by='Importance', ascending=False).iloc[:16])\n",
    "plt.xticks(rotation=45);"
   ]
  },
  {
   "cell_type": "markdown",
   "id": "fa5d0131",
   "metadata": {},
   "source": [
    "---\n",
    "# Final Model\n",
    "\n",
    "Let's train the model with the best parameters and create a new df with the **Client ID** and **Probability of Churn**"
   ]
  },
  {
   "cell_type": "code",
   "execution_count": 22,
   "id": "981907f1",
   "metadata": {},
   "outputs": [],
   "source": [
    "def train_random_forest(train, test, numTrees=10, maxDepth=5):\n",
    "    \"\"\"\n",
    "    Train the RandomForestClassifier with given numTrees and maxDepth arguements\n",
    "    \n",
    "    INPUT: train set, test set, list of numTrees, list of maxDepth\n",
    "        \n",
    "    OUTPUT: Prediction df\n",
    "    \"\"\"\n",
    "    #Model\n",
    "    rf_model = RandomForestClassifier(\n",
    "        maxDepth=best_model.getMaxDepth(),\n",
    "        numTrees=best_model.getNumTrees\n",
    "    )\n",
    "\n",
    "    model = rf_model.fit(train)\n",
    "    predictions = model.transform(test)\n",
    "    \n",
    "    #Model Evaluation\n",
    "    evaluator= BinaryClassificationEvaluator()\n",
    "       \n",
    "    areaUnderROC = evaluator.evaluate(predictions,{evaluator.metricName: 'areaUnderROC'})\n",
    "    \n",
    "    print('RESULTS:')\n",
    "    print('*'*30)\n",
    "    print(f'Test areaUnderROC: {areaUnderROC:.2f}')\n",
    "    print('*'*30)\n",
    "    \n",
    "    return predictions"
   ]
  },
  {
   "cell_type": "code",
   "execution_count": 23,
   "id": "4f2a3d87",
   "metadata": {},
   "outputs": [
    {
     "name": "stderr",
     "output_type": "stream",
     "text": [
      "22/02/22 16:30:42 WARN WindowExec: No Partition Defined for Window operation! Moving all data to a single partition, this can cause serious performance degradation.\n",
      "22/02/22 16:30:42 WARN WindowExec: No Partition Defined for Window operation! Moving all data to a single partition, this can cause serious performance degradation.\n",
      "22/02/22 16:30:42 WARN WindowExec: No Partition Defined for Window operation! Moving all data to a single partition, this can cause serious performance degradation.\n",
      "22/02/22 16:31:14 WARN DAGScheduler: Broadcasting large task binary with size 1032.6 KiB\n",
      "22/02/22 16:31:18 WARN DAGScheduler: Broadcasting large task binary with size 1293.7 KiB\n",
      "22/02/22 16:31:22 WARN DAGScheduler: Broadcasting large task binary with size 1590.0 KiB\n",
      "22/02/22 16:31:25 WARN DAGScheduler: Broadcasting large task binary with size 1903.1 KiB\n",
      "22/02/22 16:31:29 WARN DAGScheduler: Broadcasting large task binary with size 2.2 MiB\n",
      "22/02/22 16:31:32 WARN DAGScheduler: Broadcasting large task binary with size 2.5 MiB\n",
      "22/02/22 16:31:35 WARN DAGScheduler: Broadcasting large task binary with size 2.8 MiB\n",
      "22/02/22 16:31:41 WARN DAGScheduler: Broadcasting large task binary with size 3.1 MiB\n",
      "22/02/22 16:31:45 WARN DAGScheduler: Broadcasting large task binary with size 3.4 MiB\n",
      "22/02/22 16:31:48 WARN WindowExec: No Partition Defined for Window operation! Moving all data to a single partition, this can cause serious performance degradation.\n",
      "22/02/22 16:31:48 WARN WindowExec: No Partition Defined for Window operation! Moving all data to a single partition, this can cause serious performance degradation.\n",
      "22/02/22 16:31:49 WARN WindowExec: No Partition Defined for Window operation! Moving all data to a single partition, this can cause serious performance degradation.\n",
      "22/02/22 16:31:49 WARN DAGScheduler: Broadcasting large task binary with size 1791.0 KiB\n",
      "[Stage 2535:>                                                       (0 + 1) / 1]\r"
     ]
    },
    {
     "name": "stdout",
     "output_type": "stream",
     "text": [
      "RESULTS:\n",
      "******************************\n",
      "Test areaUnderROC: 0.99\n",
      "******************************\n"
     ]
    },
    {
     "name": "stderr",
     "output_type": "stream",
     "text": [
      "                                                                                \r"
     ]
    }
   ],
   "source": [
    "predictions = train_random_forest(train, test)"
   ]
  },
  {
   "cell_type": "code",
   "execution_count": 24,
   "id": "f2d8cb72",
   "metadata": {},
   "outputs": [
    {
     "name": "stderr",
     "output_type": "stream",
     "text": [
      "22/02/22 16:31:51 WARN WindowExec: No Partition Defined for Window operation! Moving all data to a single partition, this can cause serious performance degradation.\n",
      "22/02/22 16:31:52 WARN DAGScheduler: Broadcasting large task binary with size 1826.0 KiB\n",
      "[Stage 2547:>                                                       (0 + 1) / 1]\r"
     ]
    },
    {
     "name": "stdout",
     "output_type": "stream",
     "text": [
      "+---------------+-----------+----------+-----+\n",
      "|account_id     |probability|prediction|label|\n",
      "+---------------+-----------+----------+-----+\n",
      "|0011n00001vVDsy|0.88       |0.0       |0    |\n",
      "|0011n00001xVkPa|1.0        |0.0       |0    |\n",
      "|0011n0000259Ozz|0.98       |0.0       |0    |\n",
      "|0011n0000259MXR|0.97       |0.0       |0    |\n",
      "|0010Y00001YPsZx|0.96       |0.0       |0    |\n",
      "|0011n000026QyzW|1.0        |0.0       |0    |\n",
      "|0011n00001iasIc|1.0        |1.0       |1    |\n",
      "|0011n00002ZugA7|1.0        |1.0       |1    |\n",
      "|0011n0000259LTH|0.67       |1.0       |1    |\n",
      "|0011n0000259LyC|1.0        |0.0       |0    |\n",
      "|0011n00002NtUjN|1.0        |0.0       |0    |\n",
      "|0010Y00000HCjFA|1.0        |1.0       |1    |\n",
      "|0010Y00001emQAA|0.91       |0.0       |0    |\n",
      "|0011n0000259L3T|0.98       |0.0       |0    |\n",
      "|0011n00001pX2dS|0.98       |0.0       |0    |\n",
      "|0011n00002QWe50|0.98       |0.0       |0    |\n",
      "|0010Y00001ajIhj|1.0        |0.0       |0    |\n",
      "|0011n0000259L0i|1.0        |1.0       |1    |\n",
      "|0010Y00000JROpD|0.99       |0.0       |0    |\n",
      "|0011n00001xWcMv|0.98       |0.0       |0    |\n",
      "+---------------+-----------+----------+-----+\n",
      "only showing top 20 rows\n",
      "\n"
     ]
    },
    {
     "name": "stderr",
     "output_type": "stream",
     "text": [
      "                                                                                \r"
     ]
    }
   ],
   "source": [
    "predictions.select(\n",
    "    'account_id', 'probability', 'prediction', 'label'\n",
    ").withColumn('probability', round(array_max(vector_to_array('probability')), 2)).drop_duplicates(['account_id']).show(20, False)"
   ]
  },
  {
   "cell_type": "markdown",
   "id": "53aab423",
   "metadata": {},
   "source": [
    "---\n",
    "The code block blev can print the random forest tree structore. "
   ]
  },
  {
   "cell_type": "code",
   "execution_count": 25,
   "id": "4bd337a0",
   "metadata": {},
   "outputs": [],
   "source": [
    "index_feature_name_tuple = [\n",
    "    (0, 'tenure'), (1, 'contract_types'), (2, 'industries'), (3, 'recurrences'), (4, 'opt_out'), (5, 'opt_out_exercised'), (6, 'company_types'), (7, 'matches'), (8, 'infringements'), (9, 'takedowns'), (10, 'closed'), (11, 'billing_bucket')\n",
    "]\n",
    "\n",
    "tree_to_json = best_model.toDebugString\n",
    "\n",
    "for (index, feature) in index_feature_name_tuple:\n",
    "    pattern = '\\((?P<index>feature ' + str(index) + ')' + ' (?P<rest>.*)\\)'\n",
    "    tree_to_json = re.sub(pattern, f'({feature} \\g<rest>)', tree_to_json)\n",
    "\n",
    "# print(tree_to_json)"
   ]
  }
 ],
 "metadata": {
  "kernelspec": {
   "display_name": "Python 3 (ipykernel)",
   "language": "python",
   "name": "python3"
  },
  "language_info": {
   "codemirror_mode": {
    "name": "ipython",
    "version": 3
   },
   "file_extension": ".py",
   "mimetype": "text/x-python",
   "name": "python",
   "nbconvert_exporter": "python",
   "pygments_lexer": "ipython3",
   "version": "3.8.5"
  }
 },
 "nbformat": 4,
 "nbformat_minor": 5
}
